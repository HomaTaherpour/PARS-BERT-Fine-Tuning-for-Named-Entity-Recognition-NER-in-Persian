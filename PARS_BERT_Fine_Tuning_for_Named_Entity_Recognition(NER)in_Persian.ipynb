{
  "cells": [
    {
      "cell_type": "code",
      "execution_count": null,
      "metadata": {
        "_cell_guid": "b1076dfc-b9ad-4769-8c92-a6c4dae69d19",
        "_uuid": "8f2839f25d086af736a60e9eeb907d3b93b6e0e5",
        "execution": {
          "iopub.execute_input": "2023-09-29T14:48:48.726563Z",
          "iopub.status.busy": "2023-09-29T14:48:48.726316Z",
          "iopub.status.idle": "2023-09-29T14:48:49.041760Z",
          "shell.execute_reply": "2023-09-29T14:48:49.040870Z",
          "shell.execute_reply.started": "2023-09-29T14:48:48.726539Z"
        },
        "id": "jPYyKG1aeITT",
        "trusted": true
      },
      "outputs": [],
      "source": [
        "import numpy as np\n",
        "import pandas as pd"
      ]
    },
    {
      "cell_type": "code",
      "execution_count": null,
      "metadata": {
        "id": "Vc5w90AQkYTp"
      },
      "outputs": [],
      "source": [
        "pip install accelerate>=0.21.0 -U"
      ]
    },
    {
      "cell_type": "code",
      "execution_count": null,
      "metadata": {
        "colab": {
          "base_uri": "https://localhost:8080/",
          "height": 1000
        },
        "id": "9eI5v8leewmc",
        "outputId": "ffe986d1-eba5-45e3-b3bb-f9c4290251da"
      },
      "outputs": [
        {
          "name": "stdout",
          "output_type": "stream",
          "text": [
            "Requirement already satisfied: transformers in /usr/local/lib/python3.10/dist-packages (4.41.2)\n",
            "Collecting datasets\n",
            "  Downloading datasets-2.20.0-py3-none-any.whl (547 kB)\n",
            "\u001b[2K     \u001b[90m━━━━━━━━━━━━━━━━━━━━━━━━━━━━━━━━━━━━━━━━\u001b[0m \u001b[32m547.8/547.8 kB\u001b[0m \u001b[31m8.5 MB/s\u001b[0m eta \u001b[36m0:00:00\u001b[0m\n",
            "\u001b[?25hRequirement already satisfied: filelock in /usr/local/lib/python3.10/dist-packages (from transformers) (3.15.4)\n",
            "Requirement already satisfied: huggingface-hub<1.0,>=0.23.0 in /usr/local/lib/python3.10/dist-packages (from transformers) (0.23.4)\n",
            "Requirement already satisfied: numpy>=1.17 in /usr/local/lib/python3.10/dist-packages (from transformers) (1.25.2)\n",
            "Requirement already satisfied: packaging>=20.0 in /usr/local/lib/python3.10/dist-packages (from transformers) (24.1)\n",
            "Requirement already satisfied: pyyaml>=5.1 in /usr/local/lib/python3.10/dist-packages (from transformers) (6.0.1)\n",
            "Requirement already satisfied: regex!=2019.12.17 in /usr/local/lib/python3.10/dist-packages (from transformers) (2024.5.15)\n",
            "Requirement already satisfied: requests in /usr/local/lib/python3.10/dist-packages (from transformers) (2.31.0)\n",
            "Requirement already satisfied: tokenizers<0.20,>=0.19 in /usr/local/lib/python3.10/dist-packages (from transformers) (0.19.1)\n",
            "Requirement already satisfied: safetensors>=0.4.1 in /usr/local/lib/python3.10/dist-packages (from transformers) (0.4.3)\n",
            "Requirement already satisfied: tqdm>=4.27 in /usr/local/lib/python3.10/dist-packages (from transformers) (4.66.4)\n",
            "Collecting pyarrow>=15.0.0 (from datasets)\n",
            "  Downloading pyarrow-16.1.0-cp310-cp310-manylinux_2_28_x86_64.whl (40.8 MB)\n",
            "\u001b[2K     \u001b[90m━━━━━━━━━━━━━━━━━━━━━━━━━━━━━━━━━━━━━━━━\u001b[0m \u001b[32m40.8/40.8 MB\u001b[0m \u001b[31m15.2 MB/s\u001b[0m eta \u001b[36m0:00:00\u001b[0m\n",
            "\u001b[?25hRequirement already satisfied: pyarrow-hotfix in /usr/local/lib/python3.10/dist-packages (from datasets) (0.6)\n",
            "Collecting dill<0.3.9,>=0.3.0 (from datasets)\n",
            "  Downloading dill-0.3.8-py3-none-any.whl (116 kB)\n",
            "\u001b[2K     \u001b[90m━━━━━━━━━━━━━━━━━━━━━━━━━━━━━━━━━━━━━━━━\u001b[0m \u001b[32m116.3/116.3 kB\u001b[0m \u001b[31m15.1 MB/s\u001b[0m eta \u001b[36m0:00:00\u001b[0m\n",
            "\u001b[?25hRequirement already satisfied: pandas in /usr/local/lib/python3.10/dist-packages (from datasets) (2.0.3)\n",
            "Collecting requests (from transformers)\n",
            "  Downloading requests-2.32.3-py3-none-any.whl (64 kB)\n",
            "\u001b[2K     \u001b[90m━━━━━━━━━━━━━━━━━━━━━━━━━━━━━━━━━━━━━━━━\u001b[0m \u001b[32m64.9/64.9 kB\u001b[0m \u001b[31m7.5 MB/s\u001b[0m eta \u001b[36m0:00:00\u001b[0m\n",
            "\u001b[?25hCollecting xxhash (from datasets)\n",
            "  Downloading xxhash-3.4.1-cp310-cp310-manylinux_2_17_x86_64.manylinux2014_x86_64.whl (194 kB)\n",
            "\u001b[2K     \u001b[90m━━━━━━━━━━━━━━━━━━━━━━━━━━━━━━━━━━━━━━━━\u001b[0m \u001b[32m194.1/194.1 kB\u001b[0m \u001b[31m23.9 MB/s\u001b[0m eta \u001b[36m0:00:00\u001b[0m\n",
            "\u001b[?25hCollecting multiprocess (from datasets)\n",
            "  Downloading multiprocess-0.70.16-py310-none-any.whl (134 kB)\n",
            "\u001b[2K     \u001b[90m━━━━━━━━━━━━━━━━━━━━━━━━━━━━━━━━━━━━━━━━\u001b[0m \u001b[32m134.8/134.8 kB\u001b[0m \u001b[31m17.0 MB/s\u001b[0m eta \u001b[36m0:00:00\u001b[0m\n",
            "\u001b[?25hRequirement already satisfied: fsspec[http]<=2024.5.0,>=2023.1.0 in /usr/local/lib/python3.10/dist-packages (from datasets) (2023.6.0)\n",
            "Requirement already satisfied: aiohttp in /usr/local/lib/python3.10/dist-packages (from datasets) (3.9.5)\n",
            "Requirement already satisfied: aiosignal>=1.1.2 in /usr/local/lib/python3.10/dist-packages (from aiohttp->datasets) (1.3.1)\n",
            "Requirement already satisfied: attrs>=17.3.0 in /usr/local/lib/python3.10/dist-packages (from aiohttp->datasets) (23.2.0)\n",
            "Requirement already satisfied: frozenlist>=1.1.1 in /usr/local/lib/python3.10/dist-packages (from aiohttp->datasets) (1.4.1)\n",
            "Requirement already satisfied: multidict<7.0,>=4.5 in /usr/local/lib/python3.10/dist-packages (from aiohttp->datasets) (6.0.5)\n",
            "Requirement already satisfied: yarl<2.0,>=1.0 in /usr/local/lib/python3.10/dist-packages (from aiohttp->datasets) (1.9.4)\n",
            "Requirement already satisfied: async-timeout<5.0,>=4.0 in /usr/local/lib/python3.10/dist-packages (from aiohttp->datasets) (4.0.3)\n",
            "Requirement already satisfied: typing-extensions>=3.7.4.3 in /usr/local/lib/python3.10/dist-packages (from huggingface-hub<1.0,>=0.23.0->transformers) (4.12.2)\n",
            "Requirement already satisfied: charset-normalizer<4,>=2 in /usr/local/lib/python3.10/dist-packages (from requests->transformers) (3.3.2)\n",
            "Requirement already satisfied: idna<4,>=2.5 in /usr/local/lib/python3.10/dist-packages (from requests->transformers) (3.7)\n",
            "Requirement already satisfied: urllib3<3,>=1.21.1 in /usr/local/lib/python3.10/dist-packages (from requests->transformers) (2.0.7)\n",
            "Requirement already satisfied: certifi>=2017.4.17 in /usr/local/lib/python3.10/dist-packages (from requests->transformers) (2024.6.2)\n",
            "Requirement already satisfied: python-dateutil>=2.8.2 in /usr/local/lib/python3.10/dist-packages (from pandas->datasets) (2.8.2)\n",
            "Requirement already satisfied: pytz>=2020.1 in /usr/local/lib/python3.10/dist-packages (from pandas->datasets) (2023.4)\n",
            "Requirement already satisfied: tzdata>=2022.1 in /usr/local/lib/python3.10/dist-packages (from pandas->datasets) (2024.1)\n",
            "Requirement already satisfied: six>=1.5 in /usr/local/lib/python3.10/dist-packages (from python-dateutil>=2.8.2->pandas->datasets) (1.16.0)\n",
            "Installing collected packages: xxhash, requests, pyarrow, dill, multiprocess, datasets\n",
            "  Attempting uninstall: requests\n",
            "    Found existing installation: requests 2.31.0\n",
            "    Uninstalling requests-2.31.0:\n",
            "      Successfully uninstalled requests-2.31.0\n",
            "  Attempting uninstall: pyarrow\n",
            "    Found existing installation: pyarrow 14.0.2\n",
            "    Uninstalling pyarrow-14.0.2:\n",
            "      Successfully uninstalled pyarrow-14.0.2\n",
            "\u001b[31mERROR: pip's dependency resolver does not currently take into account all the packages that are installed. This behaviour is the source of the following dependency conflicts.\n",
            "cudf-cu12 24.4.1 requires pyarrow<15.0.0a0,>=14.0.1, but you have pyarrow 16.1.0 which is incompatible.\n",
            "google-colab 1.0.0 requires requests==2.31.0, but you have requests 2.32.3 which is incompatible.\n",
            "ibis-framework 8.0.0 requires pyarrow<16,>=2, but you have pyarrow 16.1.0 which is incompatible.\u001b[0m\u001b[31m\n",
            "\u001b[0mSuccessfully installed datasets-2.20.0 dill-0.3.8 multiprocess-0.70.16 pyarrow-16.1.0 requests-2.32.3 xxhash-3.4.1\n"
          ]
        },
        {
          "data": {
            "application/vnd.colab-display-data+json": {
              "id": "0c967e0da1b14311a2d7c83dcabee786",
              "pip_warning": {
                "packages": [
                  "pyarrow"
                ]
              }
            }
          },
          "metadata": {},
          "output_type": "display_data"
        }
      ],
      "source": [
        "pip install transformers datasets"
      ]
    },
    {
      "cell_type": "code",
      "execution_count": null,
      "metadata": {
        "colab": {
          "base_uri": "https://localhost:8080/",
          "height": 455,
          "referenced_widgets": [
            "9e60c6ad81204cefb6b300bc943ae2e6",
            "61e41a6e037645d49c0c5edfb287c918",
            "30aa93efc3ca4ac4b97fa297695d5299",
            "e6d99035f482480d83479a8e536412c5",
            "eeceab5fb4234bad8d918812ef7b603d",
            "41624d65ae2f4c2285d69d34c69f5c91",
            "74b0866923e9409a8132320a5106c6ac",
            "8d5596e50aa14667aaf0ab9ede866669",
            "bce76d46951a4923bfd1d5cf6f22df63",
            "ab42e2c7a98c44df81b4c72527b674d9",
            "ed1c8b064c3e48b5a96ba4ba6d48a98a",
            "2b980ccfb80c412f933813ddc6f213d1",
            "c0b3ce0f29964265be5ea38b462acf7b",
            "cb731a9967e14412b913fecd18f5836f",
            "a95833af8dda4ba18502fa4f3ea9e5ac",
            "fa639ce405bd4e05a14f768c005e334f",
            "f051b53d11b44c2cac31893ebf930b16",
            "e1860b8b1ed54b71bcb7676043b63b55",
            "e44a59a7b3e94234bbc19f006ed01f4c",
            "6e192e876d014a6e8e2270f0e54b7f0e",
            "c8b0ea53bb814ae59b6bbe04476493ef",
            "64d8d9ce33b041c2b692462ba2c1ceef",
            "767cf037e4e542e1b7dc0b7b1be7a403",
            "c219c510dc6b49deae041629fd5260f4",
            "00a8eaffed844b34a45d4d56097b6cc9",
            "c38352241e5c4d57802a5ce61f14df11",
            "8ac6d3588619459ba89057f7ac129060",
            "d3cae845442047d6819bb10aa972cabe",
            "fdc3786d577547d09fa5b3a6253c9074",
            "1d7af888acc043e49f4737e1f3d133c8",
            "e3c69536141543a4b0118d4232aa2fe1",
            "d673b79a4c694b1683b4807fdbd58393",
            "dca0eb9788d346e980c37db4845a75d3",
            "55a0aa161e7a404bb3be4cfcd9391dbe",
            "1f36dd2494754a899d4d27e1e5cec7b2",
            "acab79ccf36c4e8b96e45ffe78ad8776",
            "1bb42ac4416a4596b66fbf570112374f",
            "89b9e9b52bb54d5cb9aacf6ff914c4fa",
            "0cafc29708624ba5813204831997a16a",
            "7398d83c845d4062b242e9c9f09f0118",
            "a7416504ad8b4f44a4ec36079c5d0abb",
            "ba69b4cf74854d04a4363bed5369fbbe",
            "9cf1cce8b51440709aff97377806f8c1",
            "dac5baf4a8b648d393d752484ac19caf",
            "621496c2f19d44b98340a746fa528dfe",
            "5ed52cff803449a7b75f6861e5625f39",
            "4225117457014145877d68753d1a266f",
            "06babea28f474f739348d8abaf3f9c18",
            "adb0a7e5f9284df78298091467e318df",
            "57381764fc164bbf974e858ebeb716d6",
            "27110039674f442bb7bfa23e5230b159",
            "efd1f149693c47d8bba4aefad661b404",
            "b6c12d16ed0f4f809c04d65b3cc5ecb3",
            "d8f0f135bd2e4d5b964090f308eea588",
            "3748649b837d4f9d932d8c3e7363b863"
          ]
        },
        "execution": {
          "iopub.execute_input": "2023-09-29T14:48:49.043979Z",
          "iopub.status.busy": "2023-09-29T14:48:49.043351Z",
          "iopub.status.idle": "2023-09-29T14:48:56.560663Z",
          "shell.execute_reply": "2023-09-29T14:48:56.559760Z",
          "shell.execute_reply.started": "2023-09-29T14:48:49.043946Z"
        },
        "id": "ZnCvMoUTeITt",
        "outputId": "16494ec9-f8f0-49fd-d135-eed014793f30",
        "trusted": true
      },
      "outputs": [
        {
          "name": "stderr",
          "output_type": "stream",
          "text": [
            "/usr/local/lib/python3.10/dist-packages/huggingface_hub/utils/_token.py:89: UserWarning: \n",
            "The secret `HF_TOKEN` does not exist in your Colab secrets.\n",
            "To authenticate with the Hugging Face Hub, create a token in your settings tab (https://huggingface.co/settings/tokens), set it as secret in your Google Colab and restart your session.\n",
            "You will be able to reuse this secret in all of your notebooks.\n",
            "Please note that authentication is recommended but still optional to access public models or datasets.\n",
            "  warnings.warn(\n"
          ]
        },
        {
          "data": {
            "application/vnd.jupyter.widget-view+json": {
              "model_id": "9e60c6ad81204cefb6b300bc943ae2e6",
              "version_major": 2,
              "version_minor": 0
            },
            "text/plain": [
              "Downloading builder script:   0%|          | 0.00/7.23k [00:00<?, ?B/s]"
            ]
          },
          "metadata": {},
          "output_type": "display_data"
        },
        {
          "data": {
            "application/vnd.jupyter.widget-view+json": {
              "model_id": "2b980ccfb80c412f933813ddc6f213d1",
              "version_major": 2,
              "version_minor": 0
            },
            "text/plain": [
              "Downloading readme:   0%|          | 0.00/6.62k [00:00<?, ?B/s]"
            ]
          },
          "metadata": {},
          "output_type": "display_data"
        },
        {
          "data": {
            "application/vnd.jupyter.widget-view+json": {
              "model_id": "767cf037e4e542e1b7dc0b7b1be7a403",
              "version_major": 2,
              "version_minor": 0
            },
            "text/plain": [
              "Downloading data:   0%|          | 0.00/1.93M [00:00<?, ?B/s]"
            ]
          },
          "metadata": {},
          "output_type": "display_data"
        },
        {
          "data": {
            "application/vnd.jupyter.widget-view+json": {
              "model_id": "55a0aa161e7a404bb3be4cfcd9391dbe",
              "version_major": 2,
              "version_minor": 0
            },
            "text/plain": [
              "Generating train split:   0%|          | 0/5121 [00:00<?, ? examples/s]"
            ]
          },
          "metadata": {},
          "output_type": "display_data"
        },
        {
          "data": {
            "application/vnd.jupyter.widget-view+json": {
              "model_id": "621496c2f19d44b98340a746fa528dfe",
              "version_major": 2,
              "version_minor": 0
            },
            "text/plain": [
              "Generating test split:   0%|          | 0/2560 [00:00<?, ? examples/s]"
            ]
          },
          "metadata": {},
          "output_type": "display_data"
        },
        {
          "data": {
            "text/plain": [
              "DatasetDict({\n",
              "    train: Dataset({\n",
              "        features: ['tokens', 'ner_tags'],\n",
              "        num_rows: 5121\n",
              "    })\n",
              "    test: Dataset({\n",
              "        features: ['tokens', 'ner_tags'],\n",
              "        num_rows: 2560\n",
              "    })\n",
              "})"
            ]
          },
          "execution_count": 1,
          "metadata": {},
          "output_type": "execute_result"
        }
      ],
      "source": [
        "from datasets import load_dataset\n",
        "\n",
        "dataset = load_dataset('HaniehPoostchi/persian_ner', trust_remote_code=True)\n",
        "\n",
        "dataset"
      ]
    },
    {
      "cell_type": "code",
      "execution_count": null,
      "metadata": {
        "colab": {
          "base_uri": "https://localhost:8080/"
        },
        "execution": {
          "iopub.execute_input": "2023-09-29T14:48:56.562791Z",
          "iopub.status.busy": "2023-09-29T14:48:56.562089Z",
          "iopub.status.idle": "2023-09-29T14:48:56.572558Z",
          "shell.execute_reply": "2023-09-29T14:48:56.571303Z",
          "shell.execute_reply.started": "2023-09-29T14:48:56.562758Z"
        },
        "id": "ocPqzXF4eITy",
        "outputId": "f5bd715a-d32e-4004-f8c9-05c17859709e",
        "trusted": true
      },
      "outputs": [
        {
          "name": "stdout",
          "output_type": "stream",
          "text": [
            "{'tokens': Sequence(feature=Value(dtype='string', id=None), length=-1, id=None), 'ner_tags': Sequence(feature=ClassLabel(names=['O', 'I-event', 'I-fac', 'I-loc', 'I-org', 'I-pers', 'I-pro', 'B-event', 'B-fac', 'B-loc', 'B-org', 'B-pers', 'B-pro'], id=None), length=-1, id=None)}\n"
          ]
        }
      ],
      "source": [
        "# Printing the features of the training dataset.\n",
        "print(dataset['train'].features)"
      ]
    },
    {
      "cell_type": "code",
      "execution_count": null,
      "metadata": {
        "colab": {
          "base_uri": "https://localhost:8080/"
        },
        "id": "kjOmuvM-vWKa",
        "outputId": "609c7ad8-e93a-4fa1-b599-9d96b4c96ecb"
      },
      "outputs": [
        {
          "data": {
            "text/plain": [
              "Dataset({\n",
              "    features: ['tokens', 'ner_tags'],\n",
              "    num_rows: 5121\n",
              "})"
            ]
          },
          "execution_count": 3,
          "metadata": {},
          "output_type": "execute_result"
        }
      ],
      "source": [
        "dataset['train']"
      ]
    },
    {
      "cell_type": "code",
      "execution_count": null,
      "metadata": {
        "colab": {
          "base_uri": "https://localhost:8080/"
        },
        "execution": {
          "iopub.execute_input": "2023-09-29T14:48:56.576711Z",
          "iopub.status.busy": "2023-09-29T14:48:56.576303Z",
          "iopub.status.idle": "2023-09-29T14:48:56.611135Z",
          "shell.execute_reply": "2023-09-29T14:48:56.610170Z",
          "shell.execute_reply.started": "2023-09-29T14:48:56.576664Z"
        },
        "id": "D4lfFbIIeIT0",
        "outputId": "1750c5be-1708-4326-8040-e0feaca6c0c0",
        "trusted": true
      },
      "outputs": [
        {
          "data": {
            "text/plain": [
              "['O',\n",
              " 'I-event',\n",
              " 'I-fac',\n",
              " 'I-loc',\n",
              " 'I-org',\n",
              " 'I-pers',\n",
              " 'I-pro',\n",
              " 'B-event',\n",
              " 'B-fac',\n",
              " 'B-loc',\n",
              " 'B-org',\n",
              " 'B-pers',\n",
              " 'B-pro']"
            ]
          },
          "execution_count": 4,
          "metadata": {},
          "output_type": "execute_result"
        }
      ],
      "source": [
        "# Accessing the label names from the 'ner_tags' feature.\n",
        "label_names = dataset['train'].features['ner_tags'].feature.names\n",
        "\n",
        "label_names"
      ]
    },
    {
      "cell_type": "code",
      "execution_count": null,
      "metadata": {
        "colab": {
          "base_uri": "https://localhost:8080/"
        },
        "execution": {
          "iopub.execute_input": "2023-09-29T14:48:56.613961Z",
          "iopub.status.busy": "2023-09-29T14:48:56.613273Z",
          "iopub.status.idle": "2023-09-29T14:48:56.623275Z",
          "shell.execute_reply": "2023-09-29T14:48:56.622127Z",
          "shell.execute_reply.started": "2023-09-29T14:48:56.613931Z"
        },
        "id": "l-GM4y-2eIT2",
        "outputId": "f3c3c478-0085-43d8-8b71-37ef8a2973af",
        "trusted": true
      },
      "outputs": [
        {
          "data": {
            "text/plain": [
              "{'tokens': ['دکتر',\n",
              "  'اکبر',\n",
              "  'میرعرب',\n",
              "  'در',\n",
              "  'همایش',\n",
              "  'بررسی',\n",
              "  'و',\n",
              "  'پیشگیری',\n",
              "  'از',\n",
              "  'بیماری',\n",
              "  'ایدز',\n",
              "  'در',\n",
              "  'همدان',\n",
              "  'به',\n",
              "  'خبرنگاران',\n",
              "  'گفت',\n",
              "  ':',\n",
              "  'کمیته\\u200cای',\n",
              "  'در',\n",
              "  'سطح',\n",
              "  'استان',\n",
              "  'شامل',\n",
              "  'آموزش',\n",
              "  'نیروی',\n",
              "  'انسانی',\n",
              "  '،',\n",
              "  'کنترل',\n",
              "  'فرآورده\\u200cهای',\n",
              "  'خونی',\n",
              "  '،',\n",
              "  'برقراری',\n",
              "  'نظام',\n",
              "  'گزارش\\u200cدهی',\n",
              "  'و',\n",
              "  'آموزش',\n",
              "  'دانش\\u200cآموزان',\n",
              "  'دختر',\n",
              "  'و',\n",
              "  'پسر',\n",
              "  'در',\n",
              "  'مقطع',\n",
              "  'سوم',\n",
              "  'راهنمائی',\n",
              "  'برای',\n",
              "  'پیشگیری',\n",
              "  'از',\n",
              "  'این',\n",
              "  'بیماری',\n",
              "  'تشکیل',\n",
              "  'شده',\n",
              "  'است',\n",
              "  '.'],\n",
              " 'ner_tags': [0,\n",
              "  11,\n",
              "  5,\n",
              "  0,\n",
              "  7,\n",
              "  1,\n",
              "  1,\n",
              "  1,\n",
              "  1,\n",
              "  1,\n",
              "  1,\n",
              "  0,\n",
              "  9,\n",
              "  0,\n",
              "  0,\n",
              "  0,\n",
              "  0,\n",
              "  0,\n",
              "  0,\n",
              "  0,\n",
              "  0,\n",
              "  0,\n",
              "  0,\n",
              "  0,\n",
              "  0,\n",
              "  0,\n",
              "  0,\n",
              "  0,\n",
              "  0,\n",
              "  0,\n",
              "  0,\n",
              "  0,\n",
              "  0,\n",
              "  0,\n",
              "  0,\n",
              "  0,\n",
              "  0,\n",
              "  0,\n",
              "  0,\n",
              "  0,\n",
              "  0,\n",
              "  0,\n",
              "  0,\n",
              "  0,\n",
              "  0,\n",
              "  0,\n",
              "  0,\n",
              "  0,\n",
              "  0,\n",
              "  0,\n",
              "  0,\n",
              "  0]}"
            ]
          },
          "execution_count": 5,
          "metadata": {},
          "output_type": "execute_result"
        }
      ],
      "source": [
        "dataset['train'][2]"
      ]
    },
    {
      "cell_type": "code",
      "execution_count": null,
      "metadata": {
        "id": "Mj25GM3X58nt"
      },
      "outputs": [],
      "source": [
        "checkpoint = 'HooshvareLab/bert-base-parsbert-uncased'"
      ]
    },
    {
      "cell_type": "code",
      "execution_count": null,
      "metadata": {
        "colab": {
          "base_uri": "https://localhost:8080/"
        },
        "execution": {
          "iopub.execute_input": "2023-09-29T14:48:56.625261Z",
          "iopub.status.busy": "2023-09-29T14:48:56.624519Z",
          "iopub.status.idle": "2023-09-29T14:48:59.953903Z",
          "shell.execute_reply": "2023-09-29T14:48:59.952990Z",
          "shell.execute_reply.started": "2023-09-29T14:48:56.625218Z"
        },
        "id": "scaM4abDeIT4",
        "outputId": "a7be4872-ee4d-4308-a557-7ddf8a9cd41d",
        "trusted": true
      },
      "outputs": [
        {
          "name": "stderr",
          "output_type": "stream",
          "text": [
            "/usr/local/lib/python3.10/dist-packages/huggingface_hub/file_download.py:1132: FutureWarning: `resume_download` is deprecated and will be removed in version 1.0.0. Downloads always resume when possible. If you want to force a new download, use `force_download=True`.\n",
            "  warnings.warn(\n"
          ]
        }
      ],
      "source": [
        "from transformers import AutoConfig, AutoTokenizer, AutoModel\n",
        "\n",
        "config = AutoConfig.from_pretrained(checkpoint)\n",
        "tokenizer = AutoTokenizer.from_pretrained(checkpoint)\n",
        "model = AutoModel.from_pretrained(checkpoint)"
      ]
    },
    {
      "cell_type": "code",
      "execution_count": null,
      "metadata": {
        "colab": {
          "base_uri": "https://localhost:8080/"
        },
        "execution": {
          "iopub.execute_input": "2023-09-29T14:48:59.955384Z",
          "iopub.status.busy": "2023-09-29T14:48:59.954877Z",
          "iopub.status.idle": "2023-09-29T14:48:59.970195Z",
          "shell.execute_reply": "2023-09-29T14:48:59.969352Z",
          "shell.execute_reply.started": "2023-09-29T14:48:59.955352Z"
        },
        "id": "A65kJ3goeIT7",
        "outputId": "ef1ddbca-9a96-4d7b-905f-7b322b7734c1",
        "trusted": true
      },
      "outputs": [
        {
          "name": "stdout",
          "output_type": "stream",
          "text": [
            "{'input_ids': [2, 2031, 2339, 4281, 3043, 11084, 5966, 3655, 331, 11751, 331, 30672, 2858, 331, 2393, 2028, 6204, 4817, 300, 3001, 331, 94571, 9126, 7446, 2081, 2049, 2028, 5354, 4203, 3633, 300, 2031, 7302, 4819, 331, 17727, 3753, 4962, 2037, 2531, 4950, 9410, 331, 2725, 2036, 5860, 4425, 3473, 3467, 300, 3174, 2028, 3278, 4312, 2174, 2202, 5851, 2165, 7302, 4532, 331, 10282, 2031, 4343, 2302, 1, 2028, 12632, 7769, 1, 2882, 22034, 1158, 2263, 2045, 300, 2165, 2049, 9425, 2031, 2531, 33809, 331, 2037, 2531, 4950, 9410, 2028, 5354, 4203, 2894, 2031, 3552, 8144, 331, 2028, 2050, 2334, 2063, 2031, 2585, 4546, 2410, 333, 1157, 4793, 2050, 2983, 2028, 2690, 331, 40334, 3154, 5263, 2043, 2421, 2339, 3753, 9984, 2900, 22034, 2617, 2484, 303, 2329, 7446, 2953, 2978, 2299, 300, 14419, 2334, 3961, 3609, 2232, 9709, 1, 2353, 2165, 2049, 6370, 2224, 331, 2534, 2953, 2049, 2865, 2232, 2488, 2045, 303, 73919, 300, 10463, 2036, 7175, 5629, 7776, 2224, 300, 44495, 3171, 3081, 4235, 331, 9914, 2028, 1, 2920, 88606, 56879, 2555, 2332, 2197, 1, 4734, 40661, 5770, 331, 4118, 4962, 331, 2237, 2028, 2882, 39978, 5134, 7066, 331, 2839, 9875, 2684, 3115, 333, 1157, 95145, 11542, 2028, 7742, 6588, 2031, 2339, 4281, 2508, 2237, 331, 2508, 4962, 2049, 2037, 26595, 2039, 48131, 331, 31599, 5005, 3115, 2195, 2237, 331, 4962, 2049, 2037, 84718, 14086, 331, 21268, 2865, 39978, 2039, 7585, 2031, 5005, 23859, 2232, 4786, 15, 4], 'token_type_ids': [0, 0, 0, 0, 0, 0, 0, 0, 0, 0, 0, 0, 0, 0, 0, 0, 0, 0, 0, 0, 0, 0, 0, 0, 0, 0, 0, 0, 0, 0, 0, 0, 0, 0, 0, 0, 0, 0, 0, 0, 0, 0, 0, 0, 0, 0, 0, 0, 0, 0, 0, 0, 0, 0, 0, 0, 0, 0, 0, 0, 0, 0, 0, 0, 0, 0, 0, 0, 0, 0, 0, 0, 0, 0, 0, 0, 0, 0, 0, 0, 0, 0, 0, 0, 0, 0, 0, 0, 0, 0, 0, 0, 0, 0, 0, 0, 0, 0, 0, 0, 0, 0, 0, 0, 0, 0, 0, 0, 0, 0, 0, 0, 0, 0, 0, 0, 0, 0, 0, 0, 0, 0, 0, 0, 0, 0, 0, 0, 0, 0, 0, 0, 0, 0, 0, 0, 0, 0, 0, 0, 0, 0, 0, 0, 0, 0, 0, 0, 0, 0, 0, 0, 0, 0, 0, 0, 0, 0, 0, 0, 0, 0, 0, 0, 0, 0, 0, 0, 0, 0, 0, 0, 0, 0, 0, 0, 0, 0, 0, 0, 0, 0, 0, 0, 0, 0, 0, 0, 0, 0, 0, 0, 0, 0, 0, 0, 0, 0, 0, 0, 0, 0, 0, 0, 0, 0, 0, 0, 0, 0, 0, 0, 0, 0, 0, 0, 0, 0, 0, 0, 0, 0, 0, 0, 0, 0, 0, 0, 0, 0, 0, 0, 0, 0, 0, 0, 0, 0], 'attention_mask': [1, 1, 1, 1, 1, 1, 1, 1, 1, 1, 1, 1, 1, 1, 1, 1, 1, 1, 1, 1, 1, 1, 1, 1, 1, 1, 1, 1, 1, 1, 1, 1, 1, 1, 1, 1, 1, 1, 1, 1, 1, 1, 1, 1, 1, 1, 1, 1, 1, 1, 1, 1, 1, 1, 1, 1, 1, 1, 1, 1, 1, 1, 1, 1, 1, 1, 1, 1, 1, 1, 1, 1, 1, 1, 1, 1, 1, 1, 1, 1, 1, 1, 1, 1, 1, 1, 1, 1, 1, 1, 1, 1, 1, 1, 1, 1, 1, 1, 1, 1, 1, 1, 1, 1, 1, 1, 1, 1, 1, 1, 1, 1, 1, 1, 1, 1, 1, 1, 1, 1, 1, 1, 1, 1, 1, 1, 1, 1, 1, 1, 1, 1, 1, 1, 1, 1, 1, 1, 1, 1, 1, 1, 1, 1, 1, 1, 1, 1, 1, 1, 1, 1, 1, 1, 1, 1, 1, 1, 1, 1, 1, 1, 1, 1, 1, 1, 1, 1, 1, 1, 1, 1, 1, 1, 1, 1, 1, 1, 1, 1, 1, 1, 1, 1, 1, 1, 1, 1, 1, 1, 1, 1, 1, 1, 1, 1, 1, 1, 1, 1, 1, 1, 1, 1, 1, 1, 1, 1, 1, 1, 1, 1, 1, 1, 1, 1, 1, 1, 1, 1, 1, 1, 1, 1, 1, 1, 1, 1, 1, 1, 1, 1, 1, 1, 1, 1, 1, 1]} \n",
            "--------------------------------------------------------------------------------------\n",
            " ['[CLS]', 'به', 'عنوان', 'مثال', 'وقتی', 'نشریات', 'مدافع', 'اصول', 'و', 'ارزشها', 'و', 'منادی', 'انقلاب', 'و', 'اسلام', 'در', 'بالاترین', 'درجه', '،', 'اولین', 'و', 'درشتترین', 'تیتر', 'نشریه', 'خود', 'را', 'در', 'صدر', 'صفحه', 'نخستین', '،', 'به', 'تکذیب', 'اظهارات', 'و', 'نظریات', 'مشاور', 'ريیسجمهور', 'با', 'همین', 'ترکیب', 'عبارتی', 'و', 'البته', 'از', 'قول', 'دیگران', 'اختصاص', 'میدهند', '،', 'ایا', 'در', 'موارد', 'مشابه', 'نیز', 'هر', 'گاه', 'خبر', 'تکذیب', 'متوجه', 'و', 'معطوف', 'به', 'شخصی', 'باشد', '[UNK]', 'در', 'زمره', 'مشاوران', '[UNK]', 'مقام', 'بلندمرتبه', '##ی', 'دیگر', 'است', '،', 'خبر', 'را', 'عینا', 'به', 'همین', 'درشتی', 'و', 'با', 'همین', 'ترکیب', 'عبارتی', 'در', 'صدر', 'صفحه', 'نخست', 'به', 'چاپ', 'میرساند', 'و', 'در', 'ان', 'مورد', 'هم', 'به', 'جای', 'ذکر', 'نام', 'ي', '##ا', 'عضویت', 'ان', 'شخص', 'در', 'گروه', 'و', 'کمیتهی', 'خاص', 'صرفا', 'بر', 'روی', 'عنوان', 'مشاور', 'فلان', 'مسيول', 'بلندمرتبه', 'تاکید', 'میکنند', '؟', 'اگر', 'نشریه', 'دیگری', 'چنین', 'کند', '،', 'شدیدا', 'مورد', 'انتقاد', 'انان', 'قرار', 'نمیگیرد', '[UNK]', 'صورت', 'خبر', 'را', 'بهانه', 'کرده', 'و', 'موضوع', 'دیگری', 'را', 'هدف', 'قرار', 'داده', 'است', '؟', 'بااینهمه', '،', 'بازهم', 'از', 'قضاوت', 'قطعی', 'پرهیز', 'کرده', '،', 'میگويیم', 'فقط', 'نتیجه', 'مقایسه', 'و', 'تطبیق', 'در', '[UNK]', 'وضعیت', 'جامعال', '##اطراف', 'نشان', 'خواهد', 'داد', '[UNK]', 'رسانههای', 'جبههی', 'منتقد', 'و', 'مخالف', 'ريیسجمهور', 'و', 'دولت', 'در', 'مقام', 'نقادی', 'واقعا', 'یکسان', 'و', 'بدون', 'تبعیض', 'عمل', 'کردهاند', 'ي', '##ا', 'خدایناکرده', 'ولو', 'در', 'عالم', 'فرض', 'به', 'عنوان', 'مثال', 'غیر', 'دولت', 'و', 'غیر', 'ريیسجمهور', 'را', 'با', 'نوازش', '##های', 'لسانی', 'و', 'قلمی', 'نقد', 'کردهاند', 'اما', 'دولت', 'و', 'ريیسجمهور', 'را', 'با', 'خمپارههای', 'کلامی', 'و', 'نوشتاری', 'هدف', 'نقادی', '##های', 'موسوم', 'به', 'نقد', 'خیرخواهانه', 'قرار', 'دادهاند', '.', '[SEP]'] \n",
            "--------------------------------------------------------------------------------------\n",
            " [None, 0, 1, 2, 3, 4, 5, 6, 7, 8, 9, 10, 11, 12, 13, 14, 15, 16, 17, 18, 19, 20, 21, 22, 23, 24, 25, 26, 27, 28, 29, 30, 31, 32, 33, 34, 35, 36, 37, 38, 39, 40, 41, 42, 43, 44, 45, 46, 47, 48, 49, 50, 51, 52, 53, 54, 55, 56, 57, 58, 59, 60, 61, 62, 63, 64, 65, 66, 67, 68, 69, 70, 70, 71, 72, 73, 74, 75, 76, 77, 78, 79, 80, 81, 82, 83, 84, 85, 86, 87, 88, 89, 90, 91, 92, 93, 94, 95, 96, 97, 98, 99, 100, 101, 101, 102, 103, 104, 105, 106, 107, 108, 109, 110, 111, 112, 113, 114, 115, 116, 117, 118, 119, 120, 121, 122, 123, 124, 125, 126, 127, 128, 129, 130, 131, 132, 133, 134, 135, 136, 137, 138, 139, 140, 141, 142, 143, 144, 145, 146, 147, 148, 149, 150, 151, 152, 153, 154, 155, 156, 157, 158, 159, 160, 161, 162, 163, 164, 165, 166, 166, 167, 168, 169, 170, 171, 172, 173, 174, 175, 176, 177, 178, 179, 180, 181, 182, 183, 184, 185, 186, 187, 188, 189, 189, 190, 191, 192, 193, 194, 195, 196, 197, 198, 199, 200, 201, 202, 203, 204, 205, 205, 206, 207, 208, 209, 210, 211, 212, 213, 214, 215, 216, 217, 218, 219, 220, 221, 222, 222, 223, 224, 225, 226, 227, 228, 229, None]\n"
          ]
        }
      ],
      "source": [
        "token = tokenizer(dataset['train'][0]['tokens'], is_split_into_words = True)\n",
        "print(token, '\\n--------------------------------------------------------------------------------------\\n',\n",
        "      token.tokens(),'\\n--------------------------------------------------------------------------------------\\n',\n",
        "      token.word_ids())"
      ]
    },
    {
      "cell_type": "code",
      "execution_count": null,
      "metadata": {
        "execution": {
          "iopub.execute_input": "2023-09-29T14:48:59.972300Z",
          "iopub.status.busy": "2023-09-29T14:48:59.971656Z",
          "iopub.status.idle": "2023-09-29T14:48:59.985631Z",
          "shell.execute_reply": "2023-09-29T14:48:59.984714Z",
          "shell.execute_reply.started": "2023-09-29T14:48:59.972269Z"
        },
        "id": "su7WGfWWeIT-",
        "trusted": true
      },
      "outputs": [],
      "source": [
        "def align_target(labels, word_ids):\n",
        "    begin2inside = {\n",
        "        1: 2,\n",
        "        3: 4,\n",
        "        5: 6,\n",
        "        7: 8\n",
        "    }\n",
        "\n",
        "    align_labels = []\n",
        "    last_word = None\n",
        "\n",
        "    for word in word_ids:\n",
        "        if word is None:\n",
        "            label = -100\n",
        "        elif word != last_word:\n",
        "            label = labels[word]\n",
        "        else:\n",
        "            label = labels[word]\n",
        "            if label in begin2inside:\n",
        "                label = begin2inside[label]\n",
        "\n",
        "        align_labels.append(label)\n",
        "        last_word = word\n",
        "\n",
        "    return align_labels"
      ]
    },
    {
      "cell_type": "code",
      "execution_count": null,
      "metadata": {
        "colab": {
          "base_uri": "https://localhost:8080/"
        },
        "execution": {
          "iopub.execute_input": "2023-09-29T14:48:59.987899Z",
          "iopub.status.busy": "2023-09-29T14:48:59.987260Z",
          "iopub.status.idle": "2023-09-29T14:48:59.997327Z",
          "shell.execute_reply": "2023-09-29T14:48:59.996382Z",
          "shell.execute_reply.started": "2023-09-29T14:48:59.987869Z"
        },
        "id": "3V_WLoOHeIUA",
        "outputId": "ce6adc1b-5941-43fe-a16f-c5a280270a8d",
        "trusted": true
      },
      "outputs": [
        {
          "name": "stdout",
          "output_type": "stream",
          "text": [
            "['[CLS]', 'به', 'عنوان', 'مثال', 'وقتی', 'نشریات', 'مدافع', 'اصول', 'و', 'ارزشها', 'و', 'منادی', 'انقلاب', 'و', 'اسلام', 'در', 'بالاترین', 'درجه', '،', 'اولین', 'و', 'درشتترین', 'تیتر', 'نشریه', 'خود', 'را', 'در', 'صدر', 'صفحه', 'نخستین', '،', 'به', 'تکذیب', 'اظهارات', 'و', 'نظریات', 'مشاور', 'ريیسجمهور', 'با', 'همین', 'ترکیب', 'عبارتی', 'و', 'البته', 'از', 'قول', 'دیگران', 'اختصاص', 'میدهند', '،', 'ایا', 'در', 'موارد', 'مشابه', 'نیز', 'هر', 'گاه', 'خبر', 'تکذیب', 'متوجه', 'و', 'معطوف', 'به', 'شخصی', 'باشد', '[UNK]', 'در', 'زمره', 'مشاوران', '[UNK]', 'مقام', 'بلندمرتبه', '##ی', 'دیگر', 'است', '،', 'خبر', 'را', 'عینا', 'به', 'همین', 'درشتی', 'و', 'با', 'همین', 'ترکیب', 'عبارتی', 'در', 'صدر', 'صفحه', 'نخست', 'به', 'چاپ', 'میرساند', 'و', 'در', 'ان', 'مورد', 'هم', 'به', 'جای', 'ذکر', 'نام', 'ي', '##ا', 'عضویت', 'ان', 'شخص', 'در', 'گروه', 'و', 'کمیتهی', 'خاص', 'صرفا', 'بر', 'روی', 'عنوان', 'مشاور', 'فلان', 'مسيول', 'بلندمرتبه', 'تاکید', 'میکنند', '؟', 'اگر', 'نشریه', 'دیگری', 'چنین', 'کند', '،', 'شدیدا', 'مورد', 'انتقاد', 'انان', 'قرار', 'نمیگیرد', '[UNK]', 'صورت', 'خبر', 'را', 'بهانه', 'کرده', 'و', 'موضوع', 'دیگری', 'را', 'هدف', 'قرار', 'داده', 'است', '؟', 'بااینهمه', '،', 'بازهم', 'از', 'قضاوت', 'قطعی', 'پرهیز', 'کرده', '،', 'میگويیم', 'فقط', 'نتیجه', 'مقایسه', 'و', 'تطبیق', 'در', '[UNK]', 'وضعیت', 'جامعال', '##اطراف', 'نشان', 'خواهد', 'داد', '[UNK]', 'رسانههای', 'جبههی', 'منتقد', 'و', 'مخالف', 'ريیسجمهور', 'و', 'دولت', 'در', 'مقام', 'نقادی', 'واقعا', 'یکسان', 'و', 'بدون', 'تبعیض', 'عمل', 'کردهاند', 'ي', '##ا', 'خدایناکرده', 'ولو', 'در', 'عالم', 'فرض', 'به', 'عنوان', 'مثال', 'غیر', 'دولت', 'و', 'غیر', 'ريیسجمهور', 'را', 'با', 'نوازش', '##های', 'لسانی', 'و', 'قلمی', 'نقد', 'کردهاند', 'اما', 'دولت', 'و', 'ريیسجمهور', 'را', 'با', 'خمپارههای', 'کلامی', 'و', 'نوشتاری', 'هدف', 'نقادی', '##های', 'موسوم', 'به', 'نقد', 'خیرخواهانه', 'قرار', 'دادهاند', '.', '[SEP]'] \n",
            "--------------------------------------------------------------------------------------\n",
            " [0, 0, 0, 0, 0, 0, 0, 0, 0, 0, 0, 0, 0, 0, 0, 0, 0, 0, 0, 0, 0, 0, 0, 0, 0, 0, 0, 0, 0, 0, 0, 0, 0, 0, 0, 0, 0, 0, 0, 0, 0, 0, 0, 0, 0, 0, 0, 0, 0, 0, 0, 0, 0, 0, 0, 0, 0, 0, 0, 0, 0, 0, 0, 0, 0, 0, 0, 0, 0, 0, 0, 0, 0, 0, 0, 0, 0, 0, 0, 0, 0, 0, 0, 0, 0, 0, 0, 0, 0, 0, 0, 0, 0, 0, 0, 0, 0, 0, 0, 0, 0, 0, 0, 0, 0, 0, 0, 0, 0, 0, 0, 0, 0, 0, 0, 0, 0, 0, 0, 0, 0, 0, 0, 0, 0, 0, 0, 0, 0, 0, 0, 0, 0, 0, 0, 0, 0, 0, 0, 0, 0, 0, 0, 0, 0, 0, 0, 0, 0, 0, 0, 0, 0, 0, 0, 0, 0, 0, 0, 0, 0, 0, 0, 0, 0, 0, 0, 0, 0, 0, 0, 0, 0, 0, 0, 0, 0, 0, 0, 0, 0, 0, 0, 0, 0, 0, 0, 0, 0, 0, 0, 0, 0, 0, 0, 0, 0, 0, 0, 0, 0, 0, 0, 0, 0, 0, 0, 0, 0, 0, 0, 0, 0, 0, 0, 0, 0, 0, 0, 0, 0, 0, 0, 0, 0, 0, 0, 0, 0, 0] \n",
            "--------------------------------------------------------------------------------------\n",
            " [-100, 0, 0, 0, 0, 0, 0, 0, 0, 0, 0, 0, 0, 0, 0, 0, 0, 0, 0, 0, 0, 0, 0, 0, 0, 0, 0, 0, 0, 0, 0, 0, 0, 0, 0, 0, 0, 0, 0, 0, 0, 0, 0, 0, 0, 0, 0, 0, 0, 0, 0, 0, 0, 0, 0, 0, 0, 0, 0, 0, 0, 0, 0, 0, 0, 0, 0, 0, 0, 0, 0, 0, 0, 0, 0, 0, 0, 0, 0, 0, 0, 0, 0, 0, 0, 0, 0, 0, 0, 0, 0, 0, 0, 0, 0, 0, 0, 0, 0, 0, 0, 0, 0, 0, 0, 0, 0, 0, 0, 0, 0, 0, 0, 0, 0, 0, 0, 0, 0, 0, 0, 0, 0, 0, 0, 0, 0, 0, 0, 0, 0, 0, 0, 0, 0, 0, 0, 0, 0, 0, 0, 0, 0, 0, 0, 0, 0, 0, 0, 0, 0, 0, 0, 0, 0, 0, 0, 0, 0, 0, 0, 0, 0, 0, 0, 0, 0, 0, 0, 0, 0, 0, 0, 0, 0, 0, 0, 0, 0, 0, 0, 0, 0, 0, 0, 0, 0, 0, 0, 0, 0, 0, 0, 0, 0, 0, 0, 0, 0, 0, 0, 0, 0, 0, 0, 0, 0, 0, 0, 0, 0, 0, 0, 0, 0, 0, 0, 0, 0, 0, 0, 0, 0, 0, 0, 0, 0, 0, 0, 0, 0, 0, 0, 0, 0, 0, 0, -100]\n"
          ]
        }
      ],
      "source": [
        "labels = dataset['train'][0]['ner_tags']\n",
        "word_ids = token.word_ids()\n",
        "\n",
        "aligned_target = align_target(labels, word_ids)\n",
        "\n",
        "print(token.tokens(), '\\n--------------------------------------------------------------------------------------\\n',\n",
        "      labels, '\\n--------------------------------------------------------------------------------------\\n',\n",
        "      aligned_target)"
      ]
    },
    {
      "cell_type": "code",
      "execution_count": null,
      "metadata": {
        "colab": {
          "base_uri": "https://localhost:8080/"
        },
        "execution": {
          "iopub.execute_input": "2023-09-29T14:49:00.006809Z",
          "iopub.status.busy": "2023-09-29T14:49:00.005332Z",
          "iopub.status.idle": "2023-09-29T14:49:00.027880Z",
          "shell.execute_reply": "2023-09-29T14:49:00.026341Z",
          "shell.execute_reply.started": "2023-09-29T14:49:00.006777Z"
        },
        "id": "CQkzLa-NeIUD",
        "outputId": "e9d60187-77af-4557-cfff-ff20a5861611",
        "trusted": true
      },
      "outputs": [
        {
          "name": "stdout",
          "output_type": "stream",
          "text": [
            "[CLS]\tNone\n",
            "به\tO\n",
            "عنوان\tO\n",
            "مثال\tO\n",
            "وقتی\tO\n",
            "نشریات\tO\n",
            "مدافع\tO\n",
            "اصول\tO\n",
            "و\tO\n",
            "ارزشها\tO\n",
            "و\tO\n",
            "منادی\tO\n",
            "انقلاب\tO\n",
            "و\tO\n",
            "اسلام\tO\n",
            "در\tO\n",
            "بالاترین\tO\n",
            "درجه\tO\n",
            "،\tO\n",
            "اولین\tO\n",
            "و\tO\n",
            "درشتترین\tO\n",
            "تیتر\tO\n",
            "نشریه\tO\n",
            "خود\tO\n",
            "را\tO\n",
            "در\tO\n",
            "صدر\tO\n",
            "صفحه\tO\n",
            "نخستین\tO\n",
            "،\tO\n",
            "به\tO\n",
            "تکذیب\tO\n",
            "اظهارات\tO\n",
            "و\tO\n",
            "نظریات\tO\n",
            "مشاور\tO\n",
            "ريیسجمهور\tO\n",
            "با\tO\n",
            "همین\tO\n",
            "ترکیب\tO\n",
            "عبارتی\tO\n",
            "و\tO\n",
            "البته\tO\n",
            "از\tO\n",
            "قول\tO\n",
            "دیگران\tO\n",
            "اختصاص\tO\n",
            "میدهند\tO\n",
            "،\tO\n",
            "ایا\tO\n",
            "در\tO\n",
            "موارد\tO\n",
            "مشابه\tO\n",
            "نیز\tO\n",
            "هر\tO\n",
            "گاه\tO\n",
            "خبر\tO\n",
            "تکذیب\tO\n",
            "متوجه\tO\n",
            "و\tO\n",
            "معطوف\tO\n",
            "به\tO\n",
            "شخصی\tO\n",
            "باشد\tO\n",
            "[UNK]\tO\n",
            "در\tO\n",
            "زمره\tO\n",
            "مشاوران\tO\n",
            "[UNK]\tO\n",
            "مقام\tO\n",
            "بلندمرتبه\tO\n",
            "##ی\tO\n",
            "دیگر\tO\n",
            "است\tO\n",
            "،\tO\n",
            "خبر\tO\n",
            "را\tO\n",
            "عینا\tO\n",
            "به\tO\n",
            "همین\tO\n",
            "درشتی\tO\n",
            "و\tO\n",
            "با\tO\n",
            "همین\tO\n",
            "ترکیب\tO\n",
            "عبارتی\tO\n",
            "در\tO\n",
            "صدر\tO\n",
            "صفحه\tO\n",
            "نخست\tO\n",
            "به\tO\n",
            "چاپ\tO\n",
            "میرساند\tO\n",
            "و\tO\n",
            "در\tO\n",
            "ان\tO\n",
            "مورد\tO\n",
            "هم\tO\n",
            "به\tO\n",
            "جای\tO\n",
            "ذکر\tO\n",
            "نام\tO\n",
            "ي\tO\n",
            "##ا\tO\n",
            "عضویت\tO\n",
            "ان\tO\n",
            "شخص\tO\n",
            "در\tO\n",
            "گروه\tO\n",
            "و\tO\n",
            "کمیتهی\tO\n",
            "خاص\tO\n",
            "صرفا\tO\n",
            "بر\tO\n",
            "روی\tO\n",
            "عنوان\tO\n",
            "مشاور\tO\n",
            "فلان\tO\n",
            "مسيول\tO\n",
            "بلندمرتبه\tO\n",
            "تاکید\tO\n",
            "میکنند\tO\n",
            "؟\tO\n",
            "اگر\tO\n",
            "نشریه\tO\n",
            "دیگری\tO\n",
            "چنین\tO\n",
            "کند\tO\n",
            "،\tO\n",
            "شدیدا\tO\n",
            "مورد\tO\n",
            "انتقاد\tO\n",
            "انان\tO\n",
            "قرار\tO\n",
            "نمیگیرد\tO\n",
            "[UNK]\tO\n",
            "صورت\tO\n",
            "خبر\tO\n",
            "را\tO\n",
            "بهانه\tO\n",
            "کرده\tO\n",
            "و\tO\n",
            "موضوع\tO\n",
            "دیگری\tO\n",
            "را\tO\n",
            "هدف\tO\n",
            "قرار\tO\n",
            "داده\tO\n",
            "است\tO\n",
            "؟\tO\n",
            "بااینهمه\tO\n",
            "،\tO\n",
            "بازهم\tO\n",
            "از\tO\n",
            "قضاوت\tO\n",
            "قطعی\tO\n",
            "پرهیز\tO\n",
            "کرده\tO\n",
            "،\tO\n",
            "میگويیم\tO\n",
            "فقط\tO\n",
            "نتیجه\tO\n",
            "مقایسه\tO\n",
            "و\tO\n",
            "تطبیق\tO\n",
            "در\tO\n",
            "[UNK]\tO\n",
            "وضعیت\tO\n",
            "جامعال\tO\n",
            "##اطراف\tO\n",
            "نشان\tO\n",
            "خواهد\tO\n",
            "داد\tO\n",
            "[UNK]\tO\n",
            "رسانههای\tO\n",
            "جبههی\tO\n",
            "منتقد\tO\n",
            "و\tO\n",
            "مخالف\tO\n",
            "ريیسجمهور\tO\n",
            "و\tO\n",
            "دولت\tO\n",
            "در\tO\n",
            "مقام\tO\n",
            "نقادی\tO\n",
            "واقعا\tO\n",
            "یکسان\tO\n",
            "و\tO\n",
            "بدون\tO\n",
            "تبعیض\tO\n",
            "عمل\tO\n",
            "کردهاند\tO\n",
            "ي\tO\n",
            "##ا\tO\n",
            "خدایناکرده\tO\n",
            "ولو\tO\n",
            "در\tO\n",
            "عالم\tO\n",
            "فرض\tO\n",
            "به\tO\n",
            "عنوان\tO\n",
            "مثال\tO\n",
            "غیر\tO\n",
            "دولت\tO\n",
            "و\tO\n",
            "غیر\tO\n",
            "ريیسجمهور\tO\n",
            "را\tO\n",
            "با\tO\n",
            "نوازش\tO\n",
            "##های\tO\n",
            "لسانی\tO\n",
            "و\tO\n",
            "قلمی\tO\n",
            "نقد\tO\n",
            "کردهاند\tO\n",
            "اما\tO\n",
            "دولت\tO\n",
            "و\tO\n",
            "ريیسجمهور\tO\n",
            "را\tO\n",
            "با\tO\n",
            "خمپارههای\tO\n",
            "کلامی\tO\n",
            "و\tO\n",
            "نوشتاری\tO\n",
            "هدف\tO\n",
            "نقادی\tO\n",
            "##های\tO\n",
            "موسوم\tO\n",
            "به\tO\n",
            "نقد\tO\n",
            "خیرخواهانه\tO\n",
            "قرار\tO\n",
            "دادهاند\tO\n",
            ".\tO\n",
            "[SEP]\tNone\n"
          ]
        }
      ],
      "source": [
        "aligned_labels = [label_names[t] if t >= 0 else None for t in aligned_target]\n",
        "for x, y in zip(token.tokens(), aligned_labels):\n",
        "    print(f\"{x}\\t{y}\")"
      ]
    },
    {
      "cell_type": "code",
      "execution_count": null,
      "metadata": {
        "colab": {
          "base_uri": "https://localhost:8080/"
        },
        "execution": {
          "iopub.execute_input": "2023-09-29T14:49:00.029813Z",
          "iopub.status.busy": "2023-09-29T14:49:00.028767Z",
          "iopub.status.idle": "2023-09-29T14:49:00.042949Z",
          "shell.execute_reply": "2023-09-29T14:49:00.042045Z",
          "shell.execute_reply.started": "2023-09-29T14:49:00.029571Z"
        },
        "id": "E66cEQD0eIUE",
        "outputId": "de4b6361-cb07-467a-e595-368920a1d3ba",
        "trusted": true
      },
      "outputs": [
        {
          "name": "stdout",
          "output_type": "stream",
          "text": [
            "[CLS]\tNone\n",
            "Ger\tB-event\n",
            "##man\tB-fac\n",
            "call\tO\n",
            "to\tO\n",
            "Micro\tI-loc\n",
            "##so\tI-org\n",
            "##ft\tI-org\n",
            "[SEP]\tNone\n"
          ]
        }
      ],
      "source": [
        "words = ['[CLS]', 'Ger', '##man', 'call', 'to', 'Micro', '##so', '##ft', '[SEP]']\n",
        "word_ids = [None, 0, 0, 1, 2, 3, 3, 3, None]\n",
        "labels = [7, 0, 0, 3, 4]\n",
        "aligned_target = align_target(labels, word_ids)\n",
        "aligned_labels = [label_names[t] if t >= 0 else None for t in aligned_target]\n",
        "for x, y in zip(words, aligned_labels):\n",
        "    print(f\"{x}\\t{y}\")"
      ]
    },
    {
      "cell_type": "code",
      "execution_count": null,
      "metadata": {
        "execution": {
          "iopub.execute_input": "2023-09-29T14:49:00.046846Z",
          "iopub.status.busy": "2023-09-29T14:49:00.045727Z",
          "iopub.status.idle": "2023-09-29T14:49:00.067315Z",
          "shell.execute_reply": "2023-09-29T14:49:00.065910Z",
          "shell.execute_reply.started": "2023-09-29T14:49:00.046812Z"
        },
        "id": "D4CQfTKCeIUF",
        "trusted": true
      },
      "outputs": [],
      "source": [
        "def tokenize_fn(batch):\n",
        "    tokenized_inputs = tokenizer(batch['tokens'], truncation=True, is_split_into_words=True)\n",
        "    labels_batch = batch['ner_tags']\n",
        "    aligned_targets_batch = []\n",
        "    for i, labels in enumerate(labels_batch):\n",
        "        word_ids = tokenized_inputs.word_ids(i)\n",
        "        aligned_targets_batch.append(align_target(labels, word_ids))\n",
        "    tokenized_inputs[\"labels\"] = aligned_targets_batch\n",
        "    return tokenized_inputs"
      ]
    },
    {
      "cell_type": "code",
      "execution_count": null,
      "metadata": {
        "colab": {
          "base_uri": "https://localhost:8080/",
          "height": 98,
          "referenced_widgets": [
            "6c65a17bb52f4f1aad5de413a1d2db1c",
            "c7f38053b3a94c25817da0b8f6a55c85",
            "fc876d6e17684b18bb70433c579c1dd6",
            "c88656f4be504279b4abafd41f12aab7",
            "5b704f3c910c44de8901946bffa98418",
            "f36e2951bd89409bbfa979a09ebe6db4",
            "f7e6761f45874ce2a97a9ec0e58ffa3b",
            "827e7e8f508f4792afa4bc6f65b0f504",
            "7ea1f11466ab4bdebbc185b8810ebb42",
            "b989642aa9ef4afa942d376a21fd79ae",
            "72f089a9e02d45149918dc33e14a0237",
            "4211d02854f34706a0547ada257eaf12",
            "9c461b61bd094722841ccf9ae24b12ce",
            "25add8dd068a40eca8ea122e4442a8be",
            "c6c64c711e5849f78a3ea8afd331175d",
            "f0ed07326cdb4bed8d6c345390a68078",
            "92894c18f75a4ecc88d7e76e5c8bc946",
            "0776722757f54498bf534426ae57f053",
            "268502f3d75a4e2e823533413f2d21ec",
            "43796725398a41269ee8876ed6663127",
            "c060a577e5bf4d00b16abf22930e32f6",
            "c0ee1814213d41678dd93b3e1ed6a131"
          ]
        },
        "execution": {
          "iopub.execute_input": "2023-09-29T14:49:00.068993Z",
          "iopub.status.busy": "2023-09-29T14:49:00.068438Z",
          "iopub.status.idle": "2023-09-29T14:49:05.401791Z",
          "shell.execute_reply": "2023-09-29T14:49:05.399539Z",
          "shell.execute_reply.started": "2023-09-29T14:49:00.068963Z"
        },
        "id": "DfVK4p0meIUH",
        "outputId": "ebf4618b-103c-4c89-b4f5-86ac170441e3",
        "trusted": true
      },
      "outputs": [
        {
          "data": {
            "application/vnd.jupyter.widget-view+json": {
              "model_id": "6c65a17bb52f4f1aad5de413a1d2db1c",
              "version_major": 2,
              "version_minor": 0
            },
            "text/plain": [
              "Map:   0%|          | 0/5121 [00:00<?, ? examples/s]"
            ]
          },
          "metadata": {},
          "output_type": "display_data"
        },
        {
          "name": "stderr",
          "output_type": "stream",
          "text": [
            "Asking to truncate to max_length but no maximum length is provided and the model has no predefined maximum length. Default to no truncation.\n"
          ]
        },
        {
          "data": {
            "application/vnd.jupyter.widget-view+json": {
              "model_id": "4211d02854f34706a0547ada257eaf12",
              "version_major": 2,
              "version_minor": 0
            },
            "text/plain": [
              "Map:   0%|          | 0/2560 [00:00<?, ? examples/s]"
            ]
          },
          "metadata": {},
          "output_type": "display_data"
        }
      ],
      "source": [
        "tokenized_dataset = dataset.map(tokenize_fn, batched=True, remove_columns=dataset['train'].column_names)"
      ]
    },
    {
      "cell_type": "code",
      "execution_count": null,
      "metadata": {
        "colab": {
          "base_uri": "https://localhost:8080/"
        },
        "execution": {
          "iopub.execute_input": "2023-09-29T14:49:05.408766Z",
          "iopub.status.busy": "2023-09-29T14:49:05.406457Z",
          "iopub.status.idle": "2023-09-29T14:49:14.625961Z",
          "shell.execute_reply": "2023-09-29T14:49:14.624948Z",
          "shell.execute_reply.started": "2023-09-29T14:49:05.408702Z"
        },
        "id": "sqVupPcyeIUI",
        "outputId": "346bd34b-c3da-4f79-d0cc-cae9c4d197a0",
        "trusted": true
      },
      "outputs": [
        {
          "data": {
            "text/plain": [
              "{'input_ids': tensor([[    2,  2031,  2339,  4281,  3043, 11084,  5966,  3655,   331, 11751,\n",
              "           331, 30672,  2858,   331,  2393,  2028,  6204,  4817,   300,  3001,\n",
              "           331, 94571,  9126,  7446,  2081,  2049,  2028,  5354,  4203,  3633,\n",
              "           300,  2031,  7302,  4819,   331, 17727,  3753,  4962,  2037,  2531,\n",
              "          4950,  9410,   331,  2725,  2036,  5860,  4425,  3473,  3467,   300,\n",
              "          3174,  2028,  3278,  4312,  2174,  2202,  5851,  2165,  7302,  4532,\n",
              "           331, 10282,  2031,  4343,  2302,     1,  2028, 12632,  7769,     1,\n",
              "          2882, 22034,  1158,  2263,  2045,   300,  2165,  2049,  9425,  2031,\n",
              "          2531, 33809,   331,  2037,  2531,  4950,  9410,  2028,  5354,  4203,\n",
              "          2894,  2031,  3552,  8144,   331,  2028,  2050,  2334,  2063,  2031,\n",
              "          2585,  4546,  2410,   333,  1157,  4793,  2050,  2983,  2028,  2690,\n",
              "           331, 40334,  3154,  5263,  2043,  2421,  2339,  3753,  9984,  2900,\n",
              "         22034,  2617,  2484,   303,  2329,  7446,  2953,  2978,  2299,   300,\n",
              "         14419,  2334,  3961,  3609,  2232,  9709,     1,  2353,  2165,  2049,\n",
              "          6370,  2224,   331,  2534,  2953,  2049,  2865,  2232,  2488,  2045,\n",
              "           303, 73919,   300, 10463,  2036,  7175,  5629,  7776,  2224,   300,\n",
              "         44495,  3171,  3081,  4235,   331,  9914,  2028,     1,  2920, 88606,\n",
              "         56879,  2555,  2332,  2197,     1,  4734, 40661,  5770,   331,  4118,\n",
              "          4962,   331,  2237,  2028,  2882, 39978,  5134,  7066,   331,  2839,\n",
              "          9875,  2684,  3115,   333,  1157, 95145, 11542,  2028,  7742,  6588,\n",
              "          2031,  2339,  4281,  2508,  2237,   331,  2508,  4962,  2049,  2037,\n",
              "         26595,  2039, 48131,   331, 31599,  5005,  3115,  2195,  2237,   331,\n",
              "          4962,  2049,  2037, 84718, 14086,   331, 21268,  2865, 39978,  2039,\n",
              "          7585,  2031,  5005, 23859,  2232,  4786,    15,     4],\n",
              "        [    2,  3216, 20043,  3642,  6968,  4435,  3927, 20777,  2119,  2028,\n",
              "          2042,  2754,  2117,    17,  2036,  3935,  2634,  2914,  6899,  3364,\n",
              "          2031,  8085,  4435,   300,     1,  2914,   331, 12378,  6899,  3152,\n",
              "          2893,  2136,  2182,  2028,  3776,  5553,  4435,  2877,  2087,    15,\n",
              "             4,     0,     0,     0,     0,     0,     0,     0,     0,     0,\n",
              "             0,     0,     0,     0,     0,     0,     0,     0,     0,     0,\n",
              "             0,     0,     0,     0,     0,     0,     0,     0,     0,     0,\n",
              "             0,     0,     0,     0,     0,     0,     0,     0,     0,     0,\n",
              "             0,     0,     0,     0,     0,     0,     0,     0,     0,     0,\n",
              "             0,     0,     0,     0,     0,     0,     0,     0,     0,     0,\n",
              "             0,     0,     0,     0,     0,     0,     0,     0,     0,     0,\n",
              "             0,     0,     0,     0,     0,     0,     0,     0,     0,     0,\n",
              "             0,     0,     0,     0,     0,     0,     0,     0,     0,     0,\n",
              "             0,     0,     0,     0,     0,     0,     0,     0,     0,     0,\n",
              "             0,     0,     0,     0,     0,     0,     0,     0,     0,     0,\n",
              "             0,     0,     0,     0,     0,     0,     0,     0,     0,     0,\n",
              "             0,     0,     0,     0,     0,     0,     0,     0,     0,     0,\n",
              "             0,     0,     0,     0,     0,     0,     0,     0,     0,     0,\n",
              "             0,     0,     0,     0,     0,     0,     0,     0,     0,     0,\n",
              "             0,     0,     0,     0,     0,     0,     0,     0,     0,     0,\n",
              "             0,     0,     0,     0,     0,     0,     0,     0,     0,     0,\n",
              "             0,     0,     0,     0,     0,     0,     0,     0,     0,     0,\n",
              "             0,     0,     0,     0,     0,     0,     0,     0,     0,     0,\n",
              "             0,     0,     0,     0,     0,     0,     0,     0]]), 'token_type_ids': tensor([[0, 0, 0, 0, 0, 0, 0, 0, 0, 0, 0, 0, 0, 0, 0, 0, 0, 0, 0, 0, 0, 0, 0, 0,\n",
              "         0, 0, 0, 0, 0, 0, 0, 0, 0, 0, 0, 0, 0, 0, 0, 0, 0, 0, 0, 0, 0, 0, 0, 0,\n",
              "         0, 0, 0, 0, 0, 0, 0, 0, 0, 0, 0, 0, 0, 0, 0, 0, 0, 0, 0, 0, 0, 0, 0, 0,\n",
              "         0, 0, 0, 0, 0, 0, 0, 0, 0, 0, 0, 0, 0, 0, 0, 0, 0, 0, 0, 0, 0, 0, 0, 0,\n",
              "         0, 0, 0, 0, 0, 0, 0, 0, 0, 0, 0, 0, 0, 0, 0, 0, 0, 0, 0, 0, 0, 0, 0, 0,\n",
              "         0, 0, 0, 0, 0, 0, 0, 0, 0, 0, 0, 0, 0, 0, 0, 0, 0, 0, 0, 0, 0, 0, 0, 0,\n",
              "         0, 0, 0, 0, 0, 0, 0, 0, 0, 0, 0, 0, 0, 0, 0, 0, 0, 0, 0, 0, 0, 0, 0, 0,\n",
              "         0, 0, 0, 0, 0, 0, 0, 0, 0, 0, 0, 0, 0, 0, 0, 0, 0, 0, 0, 0, 0, 0, 0, 0,\n",
              "         0, 0, 0, 0, 0, 0, 0, 0, 0, 0, 0, 0, 0, 0, 0, 0, 0, 0, 0, 0, 0, 0, 0, 0,\n",
              "         0, 0, 0, 0, 0, 0, 0, 0, 0, 0, 0, 0, 0, 0, 0, 0, 0, 0, 0, 0, 0, 0],\n",
              "        [0, 0, 0, 0, 0, 0, 0, 0, 0, 0, 0, 0, 0, 0, 0, 0, 0, 0, 0, 0, 0, 0, 0, 0,\n",
              "         0, 0, 0, 0, 0, 0, 0, 0, 0, 0, 0, 0, 0, 0, 0, 0, 0, 0, 0, 0, 0, 0, 0, 0,\n",
              "         0, 0, 0, 0, 0, 0, 0, 0, 0, 0, 0, 0, 0, 0, 0, 0, 0, 0, 0, 0, 0, 0, 0, 0,\n",
              "         0, 0, 0, 0, 0, 0, 0, 0, 0, 0, 0, 0, 0, 0, 0, 0, 0, 0, 0, 0, 0, 0, 0, 0,\n",
              "         0, 0, 0, 0, 0, 0, 0, 0, 0, 0, 0, 0, 0, 0, 0, 0, 0, 0, 0, 0, 0, 0, 0, 0,\n",
              "         0, 0, 0, 0, 0, 0, 0, 0, 0, 0, 0, 0, 0, 0, 0, 0, 0, 0, 0, 0, 0, 0, 0, 0,\n",
              "         0, 0, 0, 0, 0, 0, 0, 0, 0, 0, 0, 0, 0, 0, 0, 0, 0, 0, 0, 0, 0, 0, 0, 0,\n",
              "         0, 0, 0, 0, 0, 0, 0, 0, 0, 0, 0, 0, 0, 0, 0, 0, 0, 0, 0, 0, 0, 0, 0, 0,\n",
              "         0, 0, 0, 0, 0, 0, 0, 0, 0, 0, 0, 0, 0, 0, 0, 0, 0, 0, 0, 0, 0, 0, 0, 0,\n",
              "         0, 0, 0, 0, 0, 0, 0, 0, 0, 0, 0, 0, 0, 0, 0, 0, 0, 0, 0, 0, 0, 0]]), 'attention_mask': tensor([[1, 1, 1, 1, 1, 1, 1, 1, 1, 1, 1, 1, 1, 1, 1, 1, 1, 1, 1, 1, 1, 1, 1, 1,\n",
              "         1, 1, 1, 1, 1, 1, 1, 1, 1, 1, 1, 1, 1, 1, 1, 1, 1, 1, 1, 1, 1, 1, 1, 1,\n",
              "         1, 1, 1, 1, 1, 1, 1, 1, 1, 1, 1, 1, 1, 1, 1, 1, 1, 1, 1, 1, 1, 1, 1, 1,\n",
              "         1, 1, 1, 1, 1, 1, 1, 1, 1, 1, 1, 1, 1, 1, 1, 1, 1, 1, 1, 1, 1, 1, 1, 1,\n",
              "         1, 1, 1, 1, 1, 1, 1, 1, 1, 1, 1, 1, 1, 1, 1, 1, 1, 1, 1, 1, 1, 1, 1, 1,\n",
              "         1, 1, 1, 1, 1, 1, 1, 1, 1, 1, 1, 1, 1, 1, 1, 1, 1, 1, 1, 1, 1, 1, 1, 1,\n",
              "         1, 1, 1, 1, 1, 1, 1, 1, 1, 1, 1, 1, 1, 1, 1, 1, 1, 1, 1, 1, 1, 1, 1, 1,\n",
              "         1, 1, 1, 1, 1, 1, 1, 1, 1, 1, 1, 1, 1, 1, 1, 1, 1, 1, 1, 1, 1, 1, 1, 1,\n",
              "         1, 1, 1, 1, 1, 1, 1, 1, 1, 1, 1, 1, 1, 1, 1, 1, 1, 1, 1, 1, 1, 1, 1, 1,\n",
              "         1, 1, 1, 1, 1, 1, 1, 1, 1, 1, 1, 1, 1, 1, 1, 1, 1, 1, 1, 1, 1, 1],\n",
              "        [1, 1, 1, 1, 1, 1, 1, 1, 1, 1, 1, 1, 1, 1, 1, 1, 1, 1, 1, 1, 1, 1, 1, 1,\n",
              "         1, 1, 1, 1, 1, 1, 1, 1, 1, 1, 1, 1, 1, 1, 1, 1, 1, 0, 0, 0, 0, 0, 0, 0,\n",
              "         0, 0, 0, 0, 0, 0, 0, 0, 0, 0, 0, 0, 0, 0, 0, 0, 0, 0, 0, 0, 0, 0, 0, 0,\n",
              "         0, 0, 0, 0, 0, 0, 0, 0, 0, 0, 0, 0, 0, 0, 0, 0, 0, 0, 0, 0, 0, 0, 0, 0,\n",
              "         0, 0, 0, 0, 0, 0, 0, 0, 0, 0, 0, 0, 0, 0, 0, 0, 0, 0, 0, 0, 0, 0, 0, 0,\n",
              "         0, 0, 0, 0, 0, 0, 0, 0, 0, 0, 0, 0, 0, 0, 0, 0, 0, 0, 0, 0, 0, 0, 0, 0,\n",
              "         0, 0, 0, 0, 0, 0, 0, 0, 0, 0, 0, 0, 0, 0, 0, 0, 0, 0, 0, 0, 0, 0, 0, 0,\n",
              "         0, 0, 0, 0, 0, 0, 0, 0, 0, 0, 0, 0, 0, 0, 0, 0, 0, 0, 0, 0, 0, 0, 0, 0,\n",
              "         0, 0, 0, 0, 0, 0, 0, 0, 0, 0, 0, 0, 0, 0, 0, 0, 0, 0, 0, 0, 0, 0, 0, 0,\n",
              "         0, 0, 0, 0, 0, 0, 0, 0, 0, 0, 0, 0, 0, 0, 0, 0, 0, 0, 0, 0, 0, 0]]), 'labels': tensor([[-100,    0,    0,    0,    0,    0,    0,    0,    0,    0,    0,    0,\n",
              "            0,    0,    0,    0,    0,    0,    0,    0,    0,    0,    0,    0,\n",
              "            0,    0,    0,    0,    0,    0,    0,    0,    0,    0,    0,    0,\n",
              "            0,    0,    0,    0,    0,    0,    0,    0,    0,    0,    0,    0,\n",
              "            0,    0,    0,    0,    0,    0,    0,    0,    0,    0,    0,    0,\n",
              "            0,    0,    0,    0,    0,    0,    0,    0,    0,    0,    0,    0,\n",
              "            0,    0,    0,    0,    0,    0,    0,    0,    0,    0,    0,    0,\n",
              "            0,    0,    0,    0,    0,    0,    0,    0,    0,    0,    0,    0,\n",
              "            0,    0,    0,    0,    0,    0,    0,    0,    0,    0,    0,    0,\n",
              "            0,    0,    0,    0,    0,    0,    0,    0,    0,    0,    0,    0,\n",
              "            0,    0,    0,    0,    0,    0,    0,    0,    0,    0,    0,    0,\n",
              "            0,    0,    0,    0,    0,    0,    0,    0,    0,    0,    0,    0,\n",
              "            0,    0,    0,    0,    0,    0,    0,    0,    0,    0,    0,    0,\n",
              "            0,    0,    0,    0,    0,    0,    0,    0,    0,    0,    0,    0,\n",
              "            0,    0,    0,    0,    0,    0,    0,    0,    0,    0,    0,    0,\n",
              "            0,    0,    0,    0,    0,    0,    0,    0,    0,    0,    0,    0,\n",
              "            0,    0,    0,    0,    0,    0,    0,    0,    0,    0,    0,    0,\n",
              "            0,    0,    0,    0,    0,    0,    0,    0,    0,    0,    0,    0,\n",
              "            0,    0,    0,    0,    0,    0,    0,    0,    0,    0,    0,    0,\n",
              "            0,    0,    0,    0,    0,    0,    0,    0,    0, -100],\n",
              "        [-100,    0,   11,    0,    7,    1,    1,    1,    1,    0,    0,    0,\n",
              "            0,    0,    0,    0,    0,    0,    0,    0,    0,    0,    0,    0,\n",
              "            0,    0,    0,    0,    0,    0,    0,    0,    0,    0,    0,    0,\n",
              "            0,    0,    0,    0, -100, -100, -100, -100, -100, -100, -100, -100,\n",
              "         -100, -100, -100, -100, -100, -100, -100, -100, -100, -100, -100, -100,\n",
              "         -100, -100, -100, -100, -100, -100, -100, -100, -100, -100, -100, -100,\n",
              "         -100, -100, -100, -100, -100, -100, -100, -100, -100, -100, -100, -100,\n",
              "         -100, -100, -100, -100, -100, -100, -100, -100, -100, -100, -100, -100,\n",
              "         -100, -100, -100, -100, -100, -100, -100, -100, -100, -100, -100, -100,\n",
              "         -100, -100, -100, -100, -100, -100, -100, -100, -100, -100, -100, -100,\n",
              "         -100, -100, -100, -100, -100, -100, -100, -100, -100, -100, -100, -100,\n",
              "         -100, -100, -100, -100, -100, -100, -100, -100, -100, -100, -100, -100,\n",
              "         -100, -100, -100, -100, -100, -100, -100, -100, -100, -100, -100, -100,\n",
              "         -100, -100, -100, -100, -100, -100, -100, -100, -100, -100, -100, -100,\n",
              "         -100, -100, -100, -100, -100, -100, -100, -100, -100, -100, -100, -100,\n",
              "         -100, -100, -100, -100, -100, -100, -100, -100, -100, -100, -100, -100,\n",
              "         -100, -100, -100, -100, -100, -100, -100, -100, -100, -100, -100, -100,\n",
              "         -100, -100, -100, -100, -100, -100, -100, -100, -100, -100, -100, -100,\n",
              "         -100, -100, -100, -100, -100, -100, -100, -100, -100, -100, -100, -100,\n",
              "         -100, -100, -100, -100, -100, -100, -100, -100, -100, -100]])}"
            ]
          },
          "execution_count": 15,
          "metadata": {},
          "output_type": "execute_result"
        }
      ],
      "source": [
        "from transformers import DataCollatorForTokenClassification\n",
        "data_collator = DataCollatorForTokenClassification(tokenizer=tokenizer)\n",
        "batch = data_collator([tokenized_dataset['train'][i] for i in range(2)])\n",
        "batch"
      ]
    },
    {
      "cell_type": "code",
      "execution_count": null,
      "metadata": {
        "colab": {
          "base_uri": "https://localhost:8080/"
        },
        "execution": {
          "iopub.execute_input": "2023-09-29T14:49:14.628496Z",
          "iopub.status.busy": "2023-09-29T14:49:14.627275Z",
          "iopub.status.idle": "2023-09-29T14:49:26.330389Z",
          "shell.execute_reply": "2023-09-29T14:49:26.329300Z",
          "shell.execute_reply.started": "2023-09-29T14:49:14.628460Z"
        },
        "id": "DiiDfrfeeIUJ",
        "outputId": "f320c646-b739-4357-e2ef-b5f7a62fbb6c",
        "trusted": true
      },
      "outputs": [
        {
          "name": "stdout",
          "output_type": "stream",
          "text": [
            "Collecting seqeval\n",
            "  Downloading seqeval-1.2.2.tar.gz (43 kB)\n",
            "\u001b[?25l     \u001b[90m━━━━━━━━━━━━━━━━━━━━━━━━━━━━━━━━━━━━━━━━\u001b[0m \u001b[32m0.0/43.6 kB\u001b[0m \u001b[31m?\u001b[0m eta \u001b[36m-:--:--\u001b[0m\r\u001b[2K     \u001b[90m━━━━━━━━━━━━━━━━━━━━━━━━━━━━━━━━━━━━━━━━\u001b[0m \u001b[32m43.6/43.6 kB\u001b[0m \u001b[31m2.3 MB/s\u001b[0m eta \u001b[36m0:00:00\u001b[0m\n",
            "\u001b[?25h  Preparing metadata (setup.py) ... \u001b[?25l\u001b[?25hdone\n",
            "Requirement already satisfied: numpy>=1.14.0 in /usr/local/lib/python3.10/dist-packages (from seqeval) (1.25.2)\n",
            "Requirement already satisfied: scikit-learn>=0.21.3 in /usr/local/lib/python3.10/dist-packages (from seqeval) (1.2.2)\n",
            "Requirement already satisfied: scipy>=1.3.2 in /usr/local/lib/python3.10/dist-packages (from scikit-learn>=0.21.3->seqeval) (1.11.4)\n",
            "Requirement already satisfied: joblib>=1.1.1 in /usr/local/lib/python3.10/dist-packages (from scikit-learn>=0.21.3->seqeval) (1.4.2)\n",
            "Requirement already satisfied: threadpoolctl>=2.0.0 in /usr/local/lib/python3.10/dist-packages (from scikit-learn>=0.21.3->seqeval) (3.5.0)\n",
            "Building wheels for collected packages: seqeval\n",
            "  Building wheel for seqeval (setup.py) ... \u001b[?25l\u001b[?25hdone\n",
            "  Created wheel for seqeval: filename=seqeval-1.2.2-py3-none-any.whl size=16161 sha256=37a183ecd6deb449dcf95fca8e10a3a165a4b45d0ada355d13d2741cad010bb0\n",
            "  Stored in directory: /root/.cache/pip/wheels/1a/67/4a/ad4082dd7dfc30f2abfe4d80a2ed5926a506eb8a972b4767fa\n",
            "Successfully built seqeval\n",
            "Installing collected packages: seqeval\n",
            "Successfully installed seqeval-1.2.2\n"
          ]
        }
      ],
      "source": [
        "!pip install seqeval ;"
      ]
    },
    {
      "cell_type": "code",
      "execution_count": null,
      "metadata": {
        "colab": {
          "base_uri": "https://localhost:8080/"
        },
        "execution": {
          "iopub.execute_input": "2023-09-29T14:49:26.332723Z",
          "iopub.status.busy": "2023-09-29T14:49:26.332376Z",
          "iopub.status.idle": "2023-09-29T14:49:27.072128Z",
          "shell.execute_reply": "2023-09-29T14:49:27.071158Z",
          "shell.execute_reply.started": "2023-09-29T14:49:26.332685Z"
        },
        "id": "3XRqLp1ReIUJ",
        "outputId": "d66982a4-3b67-44f3-d378-c57bd11f9361",
        "trusted": true
      },
      "outputs": [
        {
          "name": "stderr",
          "output_type": "stream",
          "text": [
            "/usr/local/lib/python3.10/dist-packages/seqeval/metrics/v1.py:57: UndefinedMetricWarning: Precision and F-score are ill-defined and being set to 0.0 in labels with no predicted samples. Use `zero_division` parameter to control this behavior.\n",
            "  _warn_prf(average, modifier, msg_start, len(result))\n"
          ]
        },
        {
          "data": {
            "text/plain": [
              "{'MISC': {'precision': 0.0, 'recall': 0.0, 'f1': 0.0, 'number': 1},\n",
              " 'ORG': {'precision': 0.0, 'recall': 0.0, 'f1': 0.0, 'number': 1},\n",
              " 'overall_precision': 0.0,\n",
              " 'overall_recall': 0.0,\n",
              " 'overall_f1': 0.0,\n",
              " 'overall_accuracy': 0.6666666666666666}"
            ]
          },
          "execution_count": 18,
          "metadata": {},
          "output_type": "execute_result"
        }
      ],
      "source": [
        "from datasets import load_metric\n",
        "metric = load_metric(\"seqeval\", trust_remote_code=True)\n",
        "metric.compute(predictions = [['O' , 'B-ORG' , 'I-ORG']],\n",
        "               references = [['O' , 'B-MISC' , 'I-ORG']])"
      ]
    },
    {
      "cell_type": "code",
      "execution_count": null,
      "metadata": {
        "execution": {
          "iopub.execute_input": "2023-09-29T14:49:27.074465Z",
          "iopub.status.busy": "2023-09-29T14:49:27.073454Z",
          "iopub.status.idle": "2023-09-29T14:49:27.083093Z",
          "shell.execute_reply": "2023-09-29T14:49:27.081728Z",
          "shell.execute_reply.started": "2023-09-29T14:49:27.074432Z"
        },
        "id": "wVH2TWzMeIUK",
        "trusted": true
      },
      "outputs": [],
      "source": [
        "def compute_metrics(logits_and_labels):\n",
        "  logits, labels = logits_and_labels\n",
        "  predictions = np.argmax(logits, axis=-1)\n",
        "  str_labels = [\n",
        "    [label_names[t] for t in label if t!=-100] for label in labels\n",
        "  ]\n",
        "  str_preds = [\n",
        "    [label_names[p] for (p, t) in zip(prediction, label) if t != -100]\n",
        "    for prediction, label in zip(predictions, labels)\n",
        "  ]\n",
        "  results = metric.compute(predictions=str_preds, references=str_labels)\n",
        "  return {\n",
        "    \"precision\": results[\"overall_precision\"],\n",
        "    \"recall\": results[\"overall_recall\"],\n",
        "    \"f1\": results[\"overall_f1\"],\n",
        "    \"accuracy\": results[\"overall_accuracy\"]\n",
        "  }"
      ]
    },
    {
      "cell_type": "code",
      "execution_count": null,
      "metadata": {
        "colab": {
          "base_uri": "https://localhost:8080/"
        },
        "execution": {
          "iopub.execute_input": "2023-09-29T14:49:27.084786Z",
          "iopub.status.busy": "2023-09-29T14:49:27.084455Z",
          "iopub.status.idle": "2023-09-29T14:49:27.094943Z",
          "shell.execute_reply": "2023-09-29T14:49:27.094033Z",
          "shell.execute_reply.started": "2023-09-29T14:49:27.084755Z"
        },
        "id": "UqtEOmQleIUL",
        "outputId": "1b451e32-c711-47db-cbd6-7751ff0cd496",
        "trusted": true
      },
      "outputs": [
        {
          "name": "stdout",
          "output_type": "stream",
          "text": [
            "{0: 'O', 1: 'I-event', 2: 'I-fac', 3: 'I-loc', 4: 'I-org', 5: 'I-pers', 6: 'I-pro', 7: 'B-event', 8: 'B-fac', 9: 'B-loc', 10: 'B-org', 11: 'B-pers', 12: 'B-pro'} \n",
            "--------------------\n",
            " {'O': 0, 'I-event': 1, 'I-fac': 2, 'I-loc': 3, 'I-org': 4, 'I-pers': 5, 'I-pro': 6, 'B-event': 7, 'B-fac': 8, 'B-loc': 9, 'B-org': 10, 'B-pers': 11, 'B-pro': 12}\n"
          ]
        }
      ],
      "source": [
        "id2label = {k: v for k, v in enumerate(label_names)}\n",
        "label2id = {v: k for k, v in enumerate(label_names)}\n",
        "print(id2label , '\\n--------------------\\n' , label2id)"
      ]
    },
    {
      "cell_type": "code",
      "execution_count": null,
      "metadata": {
        "colab": {
          "base_uri": "https://localhost:8080/"
        },
        "execution": {
          "iopub.execute_input": "2023-09-29T14:49:27.097552Z",
          "iopub.status.busy": "2023-09-29T14:49:27.096642Z",
          "iopub.status.idle": "2023-09-29T14:49:29.799171Z",
          "shell.execute_reply": "2023-09-29T14:49:29.798275Z",
          "shell.execute_reply.started": "2023-09-29T14:49:27.097518Z"
        },
        "id": "jWRmbBmZeIUM",
        "outputId": "72c78476-48b6-46c0-c107-3e676d282a81",
        "trusted": true
      },
      "outputs": [
        {
          "name": "stderr",
          "output_type": "stream",
          "text": [
            "Some weights of BertForTokenClassification were not initialized from the model checkpoint at HooshvareLab/bert-base-parsbert-uncased and are newly initialized: ['classifier.bias', 'classifier.weight']\n",
            "You should probably TRAIN this model on a down-stream task to be able to use it for predictions and inference.\n"
          ]
        }
      ],
      "source": [
        "from transformers import AutoModelForTokenClassification\n",
        "model = AutoModelForTokenClassification.from_pretrained(\n",
        "  checkpoint,\n",
        "  id2label=id2label,\n",
        "  label2id=label2id\n",
        ")"
      ]
    },
    {
      "cell_type": "code",
      "execution_count": null,
      "metadata": {
        "colab": {
          "base_uri": "https://localhost:8080/"
        },
        "execution": {
          "iopub.execute_input": "2023-09-29T14:49:29.800993Z",
          "iopub.status.busy": "2023-09-29T14:49:29.800666Z",
          "iopub.status.idle": "2023-09-29T14:49:29.839152Z",
          "shell.execute_reply": "2023-09-29T14:49:29.838147Z",
          "shell.execute_reply.started": "2023-09-29T14:49:29.800962Z"
        },
        "id": "8PcGm1cAeIUN",
        "outputId": "bff038db-01cd-4a10-fa25-ab749d316d45",
        "trusted": true
      },
      "outputs": [
        {
          "name": "stderr",
          "output_type": "stream",
          "text": [
            "/usr/local/lib/python3.10/dist-packages/transformers/training_args.py:1474: FutureWarning: `evaluation_strategy` is deprecated and will be removed in version 4.46 of 🤗 Transformers. Use `eval_strategy` instead\n",
            "  warnings.warn(\n"
          ]
        }
      ],
      "source": [
        "from transformers import TrainingArguments\n",
        "\n",
        "training_args = TrainingArguments(\n",
        "  output_dir = \"fine_tuned_model\",\n",
        "  evaluation_strategy = \"epoch\",\n",
        "  learning_rate = 2e-5,\n",
        "  per_device_train_batch_size = 16,\n",
        "  per_device_eval_batch_size = 16,\n",
        "  num_train_epochs = 3,\n",
        "  weight_decay = 0.01\n",
        ")"
      ]
    },
    {
      "cell_type": "code",
      "execution_count": null,
      "metadata": {
        "colab": {
          "base_uri": "https://localhost:8080/"
        },
        "id": "G7mecZuv3RQ8",
        "outputId": "0cb438dd-4f3d-42be-a482-c0e2c6b3925e"
      },
      "outputs": [
        {
          "data": {
            "text/plain": [
              "dict_keys(['train', 'test'])"
            ]
          },
          "execution_count": 27,
          "metadata": {},
          "output_type": "execute_result"
        }
      ],
      "source": [
        "tokenized_dataset.keys()"
      ]
    },
    {
      "cell_type": "code",
      "execution_count": null,
      "metadata": {
        "execution": {
          "iopub.execute_input": "2023-09-29T14:49:29.841865Z",
          "iopub.status.busy": "2023-09-29T14:49:29.841318Z",
          "iopub.status.idle": "2023-09-29T14:49:35.215400Z",
          "shell.execute_reply": "2023-09-29T14:49:35.214479Z",
          "shell.execute_reply.started": "2023-09-29T14:49:29.841833Z"
        },
        "id": "fYIk66xaeIUN",
        "trusted": true
      },
      "outputs": [],
      "source": [
        "from transformers import Trainer\n",
        "trainer = Trainer(\n",
        "  model=model,\n",
        "  args=training_args,\n",
        "  train_dataset=tokenized_dataset[\"train\"],\n",
        "  eval_dataset=tokenized_dataset[\"test\"],\n",
        "  tokenizer=tokenizer,\n",
        "  compute_metrics=compute_metrics,\n",
        "  data_collator=data_collator\n",
        ")"
      ]
    },
    {
      "cell_type": "code",
      "execution_count": null,
      "metadata": {
        "id": "-GdcOK3w900v"
      },
      "outputs": [],
      "source": [
        "import numpy as np"
      ]
    },
    {
      "cell_type": "code",
      "execution_count": null,
      "metadata": {
        "colab": {
          "base_uri": "https://localhost:8080/",
          "height": 283
        },
        "execution": {
          "iopub.execute_input": "2023-09-29T14:49:35.216818Z",
          "iopub.status.busy": "2023-09-29T14:49:35.216515Z",
          "iopub.status.idle": "2023-09-29T14:55:15.112378Z",
          "shell.execute_reply": "2023-09-29T14:55:15.110830Z",
          "shell.execute_reply.started": "2023-09-29T14:49:35.216789Z"
        },
        "id": "Ec18fSYCeIUO",
        "outputId": "e5e9a394-f13f-4d97-cb45-2db20e6049e9",
        "trusted": true
      },
      "outputs": [
        {
          "data": {
            "text/html": [
              "\n",
              "    <div>\n",
              "      \n",
              "      <progress value='963' max='963' style='width:300px; height:20px; vertical-align: middle;'></progress>\n",
              "      [963/963 05:26, Epoch 3/3]\n",
              "    </div>\n",
              "    <table border=\"1\" class=\"dataframe\">\n",
              "  <thead>\n",
              " <tr style=\"text-align: left;\">\n",
              "      <th>Epoch</th>\n",
              "      <th>Training Loss</th>\n",
              "      <th>Validation Loss</th>\n",
              "      <th>Precision</th>\n",
              "      <th>Recall</th>\n",
              "      <th>F1</th>\n",
              "      <th>Accuracy</th>\n",
              "    </tr>\n",
              "  </thead>\n",
              "  <tbody>\n",
              "    <tr>\n",
              "      <td>1</td>\n",
              "      <td>No log</td>\n",
              "      <td>0.108401</td>\n",
              "      <td>0.770018</td>\n",
              "      <td>0.826436</td>\n",
              "      <td>0.797230</td>\n",
              "      <td>0.973319</td>\n",
              "    </tr>\n",
              "    <tr>\n",
              "      <td>2</td>\n",
              "      <td>0.028400</td>\n",
              "      <td>0.113707</td>\n",
              "      <td>0.786902</td>\n",
              "      <td>0.829603</td>\n",
              "      <td>0.807688</td>\n",
              "      <td>0.975536</td>\n",
              "    </tr>\n",
              "    <tr>\n",
              "      <td>3</td>\n",
              "      <td>0.028400</td>\n",
              "      <td>0.120744</td>\n",
              "      <td>0.796353</td>\n",
              "      <td>0.829814</td>\n",
              "      <td>0.812739</td>\n",
              "      <td>0.975775</td>\n",
              "    </tr>\n",
              "  </tbody>\n",
              "</table><p>"
            ],
            "text/plain": [
              "<IPython.core.display.HTML object>"
            ]
          },
          "metadata": {},
          "output_type": "display_data"
        },
        {
          "data": {
            "text/html": [
              "\n",
              "    <div>\n",
              "      \n",
              "      <progress value='322' max='963' style='width:300px; height:20px; vertical-align: middle;'></progress>\n",
              "      [322/963 01:25 < 02:50, 3.76 it/s, Epoch 1/3]\n",
              "    </div>\n",
              "    <table border=\"1\" class=\"dataframe\">\n",
              "  <thead>\n",
              " <tr style=\"text-align: left;\">\n",
              "      <th>Epoch</th>\n",
              "      <th>Training Loss</th>\n",
              "      <th>Validation Loss</th>\n",
              "    </tr>\n",
              "  </thead>\n",
              "  <tbody>\n",
              "  </tbody>\n",
              "</table><p>\n",
              "    <div>\n",
              "      \n",
              "      <progress value='320' max='160' style='width:300px; height:20px; vertical-align: middle;'></progress>\n",
              "      [160/160 02:23]\n",
              "    </div>\n",
              "    "
            ],
            "text/plain": [
              "<IPython.core.display.HTML object>"
            ]
          },
          "metadata": {},
          "output_type": "display_data"
        },
        {
          "data": {
            "text/plain": [
              "TrainOutput(global_step=963, training_loss=0.019921526606828128, metrics={'train_runtime': 326.8933, 'train_samples_per_second': 46.997, 'train_steps_per_second': 2.946, 'total_flos': 843979567123596.0, 'train_loss': 0.019921526606828128, 'epoch': 3.0})"
            ]
          },
          "execution_count": 31,
          "metadata": {},
          "output_type": "execute_result"
        }
      ],
      "source": [
        "trainer.train()"
      ]
    },
    {
      "cell_type": "code",
      "execution_count": null,
      "metadata": {
        "execution": {
          "iopub.execute_input": "2023-09-29T14:55:15.117568Z",
          "iopub.status.busy": "2023-09-29T14:55:15.116883Z",
          "iopub.status.idle": "2023-09-29T14:55:15.694566Z",
          "shell.execute_reply": "2023-09-29T14:55:15.693454Z",
          "shell.execute_reply.started": "2023-09-29T14:55:15.117530Z"
        },
        "id": "hODwd3wWeIUP",
        "trusted": true
      },
      "outputs": [],
      "source": [
        "trainer.save_model('fine_tuned_model')"
      ]
    },
    {
      "cell_type": "code",
      "execution_count": null,
      "metadata": {
        "execution": {
          "iopub.execute_input": "2023-09-29T14:55:15.696379Z",
          "iopub.status.busy": "2023-09-29T14:55:15.695850Z",
          "iopub.status.idle": "2023-09-29T14:55:18.335813Z",
          "shell.execute_reply": "2023-09-29T14:55:18.334522Z",
          "shell.execute_reply.started": "2023-09-29T14:55:15.696341Z"
        },
        "id": "bfE9g2eEeIUQ",
        "trusted": true
      },
      "outputs": [],
      "source": [
        "from transformers import pipeline\n",
        "\n",
        "ner = pipeline(\n",
        "    'token-classification',\n",
        "    model = 'fine_tuned_model',\n",
        "    aggregation_strategy = 'simple' ,\n",
        "    device = 0\n",
        ")"
      ]
    },
    {
      "cell_type": "code",
      "execution_count": null,
      "metadata": {
        "colab": {
          "base_uri": "https://localhost:8080/"
        },
        "execution": {
          "iopub.execute_input": "2023-09-29T15:05:22.749813Z",
          "iopub.status.busy": "2023-09-29T15:05:22.749477Z",
          "iopub.status.idle": "2023-09-29T15:05:22.773415Z",
          "shell.execute_reply": "2023-09-29T15:05:22.772205Z",
          "shell.execute_reply.started": "2023-09-29T15:05:22.749787Z"
        },
        "id": "itCXpKIMeIUQ",
        "outputId": "e44b16b4-f329-4163-bf47-b30db36f7e13",
        "trusted": true
      },
      "outputs": [
        {
          "name": "stderr",
          "output_type": "stream",
          "text": [
            "Asking to truncate to max_length but no maximum length is provided and the model has no predefined maximum length. Default to no truncation.\n"
          ]
        },
        {
          "data": {
            "text/plain": [
              "[{'entity_group': 'fac',\n",
              "  'score': 0.9963601,\n",
              "  'word': 'دانشگاه گیلان',\n",
              "  'start': 18,\n",
              "  'end': 31},\n",
              " {'entity_group': 'loc',\n",
              "  'score': 0.96863204,\n",
              "  'word': 'رشت',\n",
              "  'start': 35,\n",
              "  'end': 38}]"
            ]
          },
          "execution_count": 34,
          "metadata": {},
          "output_type": "execute_result"
        }
      ],
      "source": [
        "ner('سلام ما دانشجویان دانشگاه گیلان در رشت هستیم.')"
      ]
    }
  ],
  "metadata": {
    "accelerator": "GPU",
    "colab": {
      "gpuType": "T4",
      "provenance": []
    },
    "kernelspec": {
      "display_name": "Python 3",
      "name": "python3"
    },
    "language_info": {
      "codemirror_mode": {
        "name": "ipython",
        "version": 3
      },
      "file_extension": ".py",
      "mimetype": "text/x-python",
      "name": "python",
      "nbconvert_exporter": "python",
      "pygments_lexer": "ipython3",
      "version": "3.10.12"
    },
    "widgets": {
      "application/vnd.jupyter.widget-state+json": {
        "00a8eaffed844b34a45d4d56097b6cc9": {
          "model_module": "@jupyter-widgets/controls",
          "model_module_version": "1.5.0",
          "model_name": "FloatProgressModel",
          "state": {
            "_dom_classes": [],
            "_model_module": "@jupyter-widgets/controls",
            "_model_module_version": "1.5.0",
            "_model_name": "FloatProgressModel",
            "_view_count": null,
            "_view_module": "@jupyter-widgets/controls",
            "_view_module_version": "1.5.0",
            "_view_name": "ProgressView",
            "bar_style": "success",
            "description": "",
            "description_tooltip": null,
            "layout": "IPY_MODEL_1d7af888acc043e49f4737e1f3d133c8",
            "max": 1931170,
            "min": 0,
            "orientation": "horizontal",
            "style": "IPY_MODEL_e3c69536141543a4b0118d4232aa2fe1",
            "value": 1931170
          }
        },
        "06babea28f474f739348d8abaf3f9c18": {
          "model_module": "@jupyter-widgets/controls",
          "model_module_version": "1.5.0",
          "model_name": "HTMLModel",
          "state": {
            "_dom_classes": [],
            "_model_module": "@jupyter-widgets/controls",
            "_model_module_version": "1.5.0",
            "_model_name": "HTMLModel",
            "_view_count": null,
            "_view_module": "@jupyter-widgets/controls",
            "_view_module_version": "1.5.0",
            "_view_name": "HTMLView",
            "description": "",
            "description_tooltip": null,
            "layout": "IPY_MODEL_d8f0f135bd2e4d5b964090f308eea588",
            "placeholder": "​",
            "style": "IPY_MODEL_3748649b837d4f9d932d8c3e7363b863",
            "value": " 2560/2560 [00:01&lt;00:00, 1738.46 examples/s]"
          }
        },
        "0776722757f54498bf534426ae57f053": {
          "model_module": "@jupyter-widgets/controls",
          "model_module_version": "1.5.0",
          "model_name": "DescriptionStyleModel",
          "state": {
            "_model_module": "@jupyter-widgets/controls",
            "_model_module_version": "1.5.0",
            "_model_name": "DescriptionStyleModel",
            "_view_count": null,
            "_view_module": "@jupyter-widgets/base",
            "_view_module_version": "1.2.0",
            "_view_name": "StyleView",
            "description_width": ""
          }
        },
        "0cafc29708624ba5813204831997a16a": {
          "model_module": "@jupyter-widgets/base",
          "model_module_version": "1.2.0",
          "model_name": "LayoutModel",
          "state": {
            "_model_module": "@jupyter-widgets/base",
            "_model_module_version": "1.2.0",
            "_model_name": "LayoutModel",
            "_view_count": null,
            "_view_module": "@jupyter-widgets/base",
            "_view_module_version": "1.2.0",
            "_view_name": "LayoutView",
            "align_content": null,
            "align_items": null,
            "align_self": null,
            "border": null,
            "bottom": null,
            "display": null,
            "flex": null,
            "flex_flow": null,
            "grid_area": null,
            "grid_auto_columns": null,
            "grid_auto_flow": null,
            "grid_auto_rows": null,
            "grid_column": null,
            "grid_gap": null,
            "grid_row": null,
            "grid_template_areas": null,
            "grid_template_columns": null,
            "grid_template_rows": null,
            "height": null,
            "justify_content": null,
            "justify_items": null,
            "left": null,
            "margin": null,
            "max_height": null,
            "max_width": null,
            "min_height": null,
            "min_width": null,
            "object_fit": null,
            "object_position": null,
            "order": null,
            "overflow": null,
            "overflow_x": null,
            "overflow_y": null,
            "padding": null,
            "right": null,
            "top": null,
            "visibility": null,
            "width": null
          }
        },
        "1bb42ac4416a4596b66fbf570112374f": {
          "model_module": "@jupyter-widgets/controls",
          "model_module_version": "1.5.0",
          "model_name": "HTMLModel",
          "state": {
            "_dom_classes": [],
            "_model_module": "@jupyter-widgets/controls",
            "_model_module_version": "1.5.0",
            "_model_name": "HTMLModel",
            "_view_count": null,
            "_view_module": "@jupyter-widgets/controls",
            "_view_module_version": "1.5.0",
            "_view_name": "HTMLView",
            "description": "",
            "description_tooltip": null,
            "layout": "IPY_MODEL_9cf1cce8b51440709aff97377806f8c1",
            "placeholder": "​",
            "style": "IPY_MODEL_dac5baf4a8b648d393d752484ac19caf",
            "value": " 5121/5121 [00:02&lt;00:00, 1575.38 examples/s]"
          }
        },
        "1d7af888acc043e49f4737e1f3d133c8": {
          "model_module": "@jupyter-widgets/base",
          "model_module_version": "1.2.0",
          "model_name": "LayoutModel",
          "state": {
            "_model_module": "@jupyter-widgets/base",
            "_model_module_version": "1.2.0",
            "_model_name": "LayoutModel",
            "_view_count": null,
            "_view_module": "@jupyter-widgets/base",
            "_view_module_version": "1.2.0",
            "_view_name": "LayoutView",
            "align_content": null,
            "align_items": null,
            "align_self": null,
            "border": null,
            "bottom": null,
            "display": null,
            "flex": null,
            "flex_flow": null,
            "grid_area": null,
            "grid_auto_columns": null,
            "grid_auto_flow": null,
            "grid_auto_rows": null,
            "grid_column": null,
            "grid_gap": null,
            "grid_row": null,
            "grid_template_areas": null,
            "grid_template_columns": null,
            "grid_template_rows": null,
            "height": null,
            "justify_content": null,
            "justify_items": null,
            "left": null,
            "margin": null,
            "max_height": null,
            "max_width": null,
            "min_height": null,
            "min_width": null,
            "object_fit": null,
            "object_position": null,
            "order": null,
            "overflow": null,
            "overflow_x": null,
            "overflow_y": null,
            "padding": null,
            "right": null,
            "top": null,
            "visibility": null,
            "width": null
          }
        },
        "1f36dd2494754a899d4d27e1e5cec7b2": {
          "model_module": "@jupyter-widgets/controls",
          "model_module_version": "1.5.0",
          "model_name": "HTMLModel",
          "state": {
            "_dom_classes": [],
            "_model_module": "@jupyter-widgets/controls",
            "_model_module_version": "1.5.0",
            "_model_name": "HTMLModel",
            "_view_count": null,
            "_view_module": "@jupyter-widgets/controls",
            "_view_module_version": "1.5.0",
            "_view_name": "HTMLView",
            "description": "",
            "description_tooltip": null,
            "layout": "IPY_MODEL_0cafc29708624ba5813204831997a16a",
            "placeholder": "​",
            "style": "IPY_MODEL_7398d83c845d4062b242e9c9f09f0118",
            "value": "Generating train split: 100%"
          }
        },
        "25add8dd068a40eca8ea122e4442a8be": {
          "model_module": "@jupyter-widgets/controls",
          "model_module_version": "1.5.0",
          "model_name": "FloatProgressModel",
          "state": {
            "_dom_classes": [],
            "_model_module": "@jupyter-widgets/controls",
            "_model_module_version": "1.5.0",
            "_model_name": "FloatProgressModel",
            "_view_count": null,
            "_view_module": "@jupyter-widgets/controls",
            "_view_module_version": "1.5.0",
            "_view_name": "ProgressView",
            "bar_style": "success",
            "description": "",
            "description_tooltip": null,
            "layout": "IPY_MODEL_268502f3d75a4e2e823533413f2d21ec",
            "max": 2560,
            "min": 0,
            "orientation": "horizontal",
            "style": "IPY_MODEL_43796725398a41269ee8876ed6663127",
            "value": 2560
          }
        },
        "268502f3d75a4e2e823533413f2d21ec": {
          "model_module": "@jupyter-widgets/base",
          "model_module_version": "1.2.0",
          "model_name": "LayoutModel",
          "state": {
            "_model_module": "@jupyter-widgets/base",
            "_model_module_version": "1.2.0",
            "_model_name": "LayoutModel",
            "_view_count": null,
            "_view_module": "@jupyter-widgets/base",
            "_view_module_version": "1.2.0",
            "_view_name": "LayoutView",
            "align_content": null,
            "align_items": null,
            "align_self": null,
            "border": null,
            "bottom": null,
            "display": null,
            "flex": null,
            "flex_flow": null,
            "grid_area": null,
            "grid_auto_columns": null,
            "grid_auto_flow": null,
            "grid_auto_rows": null,
            "grid_column": null,
            "grid_gap": null,
            "grid_row": null,
            "grid_template_areas": null,
            "grid_template_columns": null,
            "grid_template_rows": null,
            "height": null,
            "justify_content": null,
            "justify_items": null,
            "left": null,
            "margin": null,
            "max_height": null,
            "max_width": null,
            "min_height": null,
            "min_width": null,
            "object_fit": null,
            "object_position": null,
            "order": null,
            "overflow": null,
            "overflow_x": null,
            "overflow_y": null,
            "padding": null,
            "right": null,
            "top": null,
            "visibility": null,
            "width": null
          }
        },
        "27110039674f442bb7bfa23e5230b159": {
          "model_module": "@jupyter-widgets/controls",
          "model_module_version": "1.5.0",
          "model_name": "DescriptionStyleModel",
          "state": {
            "_model_module": "@jupyter-widgets/controls",
            "_model_module_version": "1.5.0",
            "_model_name": "DescriptionStyleModel",
            "_view_count": null,
            "_view_module": "@jupyter-widgets/base",
            "_view_module_version": "1.2.0",
            "_view_name": "StyleView",
            "description_width": ""
          }
        },
        "2b980ccfb80c412f933813ddc6f213d1": {
          "model_module": "@jupyter-widgets/controls",
          "model_module_version": "1.5.0",
          "model_name": "HBoxModel",
          "state": {
            "_dom_classes": [],
            "_model_module": "@jupyter-widgets/controls",
            "_model_module_version": "1.5.0",
            "_model_name": "HBoxModel",
            "_view_count": null,
            "_view_module": "@jupyter-widgets/controls",
            "_view_module_version": "1.5.0",
            "_view_name": "HBoxView",
            "box_style": "",
            "children": [
              "IPY_MODEL_c0b3ce0f29964265be5ea38b462acf7b",
              "IPY_MODEL_cb731a9967e14412b913fecd18f5836f",
              "IPY_MODEL_a95833af8dda4ba18502fa4f3ea9e5ac"
            ],
            "layout": "IPY_MODEL_fa639ce405bd4e05a14f768c005e334f"
          }
        },
        "30aa93efc3ca4ac4b97fa297695d5299": {
          "model_module": "@jupyter-widgets/controls",
          "model_module_version": "1.5.0",
          "model_name": "FloatProgressModel",
          "state": {
            "_dom_classes": [],
            "_model_module": "@jupyter-widgets/controls",
            "_model_module_version": "1.5.0",
            "_model_name": "FloatProgressModel",
            "_view_count": null,
            "_view_module": "@jupyter-widgets/controls",
            "_view_module_version": "1.5.0",
            "_view_name": "ProgressView",
            "bar_style": "success",
            "description": "",
            "description_tooltip": null,
            "layout": "IPY_MODEL_8d5596e50aa14667aaf0ab9ede866669",
            "max": 7229,
            "min": 0,
            "orientation": "horizontal",
            "style": "IPY_MODEL_bce76d46951a4923bfd1d5cf6f22df63",
            "value": 7229
          }
        },
        "3748649b837d4f9d932d8c3e7363b863": {
          "model_module": "@jupyter-widgets/controls",
          "model_module_version": "1.5.0",
          "model_name": "DescriptionStyleModel",
          "state": {
            "_model_module": "@jupyter-widgets/controls",
            "_model_module_version": "1.5.0",
            "_model_name": "DescriptionStyleModel",
            "_view_count": null,
            "_view_module": "@jupyter-widgets/base",
            "_view_module_version": "1.2.0",
            "_view_name": "StyleView",
            "description_width": ""
          }
        },
        "41624d65ae2f4c2285d69d34c69f5c91": {
          "model_module": "@jupyter-widgets/base",
          "model_module_version": "1.2.0",
          "model_name": "LayoutModel",
          "state": {
            "_model_module": "@jupyter-widgets/base",
            "_model_module_version": "1.2.0",
            "_model_name": "LayoutModel",
            "_view_count": null,
            "_view_module": "@jupyter-widgets/base",
            "_view_module_version": "1.2.0",
            "_view_name": "LayoutView",
            "align_content": null,
            "align_items": null,
            "align_self": null,
            "border": null,
            "bottom": null,
            "display": null,
            "flex": null,
            "flex_flow": null,
            "grid_area": null,
            "grid_auto_columns": null,
            "grid_auto_flow": null,
            "grid_auto_rows": null,
            "grid_column": null,
            "grid_gap": null,
            "grid_row": null,
            "grid_template_areas": null,
            "grid_template_columns": null,
            "grid_template_rows": null,
            "height": null,
            "justify_content": null,
            "justify_items": null,
            "left": null,
            "margin": null,
            "max_height": null,
            "max_width": null,
            "min_height": null,
            "min_width": null,
            "object_fit": null,
            "object_position": null,
            "order": null,
            "overflow": null,
            "overflow_x": null,
            "overflow_y": null,
            "padding": null,
            "right": null,
            "top": null,
            "visibility": null,
            "width": null
          }
        },
        "4211d02854f34706a0547ada257eaf12": {
          "model_module": "@jupyter-widgets/controls",
          "model_module_version": "1.5.0",
          "model_name": "HBoxModel",
          "state": {
            "_dom_classes": [],
            "_model_module": "@jupyter-widgets/controls",
            "_model_module_version": "1.5.0",
            "_model_name": "HBoxModel",
            "_view_count": null,
            "_view_module": "@jupyter-widgets/controls",
            "_view_module_version": "1.5.0",
            "_view_name": "HBoxView",
            "box_style": "",
            "children": [
              "IPY_MODEL_9c461b61bd094722841ccf9ae24b12ce",
              "IPY_MODEL_25add8dd068a40eca8ea122e4442a8be",
              "IPY_MODEL_c6c64c711e5849f78a3ea8afd331175d"
            ],
            "layout": "IPY_MODEL_f0ed07326cdb4bed8d6c345390a68078"
          }
        },
        "4225117457014145877d68753d1a266f": {
          "model_module": "@jupyter-widgets/controls",
          "model_module_version": "1.5.0",
          "model_name": "FloatProgressModel",
          "state": {
            "_dom_classes": [],
            "_model_module": "@jupyter-widgets/controls",
            "_model_module_version": "1.5.0",
            "_model_name": "FloatProgressModel",
            "_view_count": null,
            "_view_module": "@jupyter-widgets/controls",
            "_view_module_version": "1.5.0",
            "_view_name": "ProgressView",
            "bar_style": "success",
            "description": "",
            "description_tooltip": null,
            "layout": "IPY_MODEL_efd1f149693c47d8bba4aefad661b404",
            "max": 2560,
            "min": 0,
            "orientation": "horizontal",
            "style": "IPY_MODEL_b6c12d16ed0f4f809c04d65b3cc5ecb3",
            "value": 2560
          }
        },
        "43796725398a41269ee8876ed6663127": {
          "model_module": "@jupyter-widgets/controls",
          "model_module_version": "1.5.0",
          "model_name": "ProgressStyleModel",
          "state": {
            "_model_module": "@jupyter-widgets/controls",
            "_model_module_version": "1.5.0",
            "_model_name": "ProgressStyleModel",
            "_view_count": null,
            "_view_module": "@jupyter-widgets/base",
            "_view_module_version": "1.2.0",
            "_view_name": "StyleView",
            "bar_color": null,
            "description_width": ""
          }
        },
        "55a0aa161e7a404bb3be4cfcd9391dbe": {
          "model_module": "@jupyter-widgets/controls",
          "model_module_version": "1.5.0",
          "model_name": "HBoxModel",
          "state": {
            "_dom_classes": [],
            "_model_module": "@jupyter-widgets/controls",
            "_model_module_version": "1.5.0",
            "_model_name": "HBoxModel",
            "_view_count": null,
            "_view_module": "@jupyter-widgets/controls",
            "_view_module_version": "1.5.0",
            "_view_name": "HBoxView",
            "box_style": "",
            "children": [
              "IPY_MODEL_1f36dd2494754a899d4d27e1e5cec7b2",
              "IPY_MODEL_acab79ccf36c4e8b96e45ffe78ad8776",
              "IPY_MODEL_1bb42ac4416a4596b66fbf570112374f"
            ],
            "layout": "IPY_MODEL_89b9e9b52bb54d5cb9aacf6ff914c4fa"
          }
        },
        "57381764fc164bbf974e858ebeb716d6": {
          "model_module": "@jupyter-widgets/base",
          "model_module_version": "1.2.0",
          "model_name": "LayoutModel",
          "state": {
            "_model_module": "@jupyter-widgets/base",
            "_model_module_version": "1.2.0",
            "_model_name": "LayoutModel",
            "_view_count": null,
            "_view_module": "@jupyter-widgets/base",
            "_view_module_version": "1.2.0",
            "_view_name": "LayoutView",
            "align_content": null,
            "align_items": null,
            "align_self": null,
            "border": null,
            "bottom": null,
            "display": null,
            "flex": null,
            "flex_flow": null,
            "grid_area": null,
            "grid_auto_columns": null,
            "grid_auto_flow": null,
            "grid_auto_rows": null,
            "grid_column": null,
            "grid_gap": null,
            "grid_row": null,
            "grid_template_areas": null,
            "grid_template_columns": null,
            "grid_template_rows": null,
            "height": null,
            "justify_content": null,
            "justify_items": null,
            "left": null,
            "margin": null,
            "max_height": null,
            "max_width": null,
            "min_height": null,
            "min_width": null,
            "object_fit": null,
            "object_position": null,
            "order": null,
            "overflow": null,
            "overflow_x": null,
            "overflow_y": null,
            "padding": null,
            "right": null,
            "top": null,
            "visibility": null,
            "width": null
          }
        },
        "5b704f3c910c44de8901946bffa98418": {
          "model_module": "@jupyter-widgets/base",
          "model_module_version": "1.2.0",
          "model_name": "LayoutModel",
          "state": {
            "_model_module": "@jupyter-widgets/base",
            "_model_module_version": "1.2.0",
            "_model_name": "LayoutModel",
            "_view_count": null,
            "_view_module": "@jupyter-widgets/base",
            "_view_module_version": "1.2.0",
            "_view_name": "LayoutView",
            "align_content": null,
            "align_items": null,
            "align_self": null,
            "border": null,
            "bottom": null,
            "display": null,
            "flex": null,
            "flex_flow": null,
            "grid_area": null,
            "grid_auto_columns": null,
            "grid_auto_flow": null,
            "grid_auto_rows": null,
            "grid_column": null,
            "grid_gap": null,
            "grid_row": null,
            "grid_template_areas": null,
            "grid_template_columns": null,
            "grid_template_rows": null,
            "height": null,
            "justify_content": null,
            "justify_items": null,
            "left": null,
            "margin": null,
            "max_height": null,
            "max_width": null,
            "min_height": null,
            "min_width": null,
            "object_fit": null,
            "object_position": null,
            "order": null,
            "overflow": null,
            "overflow_x": null,
            "overflow_y": null,
            "padding": null,
            "right": null,
            "top": null,
            "visibility": null,
            "width": null
          }
        },
        "5ed52cff803449a7b75f6861e5625f39": {
          "model_module": "@jupyter-widgets/controls",
          "model_module_version": "1.5.0",
          "model_name": "HTMLModel",
          "state": {
            "_dom_classes": [],
            "_model_module": "@jupyter-widgets/controls",
            "_model_module_version": "1.5.0",
            "_model_name": "HTMLModel",
            "_view_count": null,
            "_view_module": "@jupyter-widgets/controls",
            "_view_module_version": "1.5.0",
            "_view_name": "HTMLView",
            "description": "",
            "description_tooltip": null,
            "layout": "IPY_MODEL_57381764fc164bbf974e858ebeb716d6",
            "placeholder": "​",
            "style": "IPY_MODEL_27110039674f442bb7bfa23e5230b159",
            "value": "Generating test split: 100%"
          }
        },
        "61e41a6e037645d49c0c5edfb287c918": {
          "model_module": "@jupyter-widgets/controls",
          "model_module_version": "1.5.0",
          "model_name": "HTMLModel",
          "state": {
            "_dom_classes": [],
            "_model_module": "@jupyter-widgets/controls",
            "_model_module_version": "1.5.0",
            "_model_name": "HTMLModel",
            "_view_count": null,
            "_view_module": "@jupyter-widgets/controls",
            "_view_module_version": "1.5.0",
            "_view_name": "HTMLView",
            "description": "",
            "description_tooltip": null,
            "layout": "IPY_MODEL_41624d65ae2f4c2285d69d34c69f5c91",
            "placeholder": "​",
            "style": "IPY_MODEL_74b0866923e9409a8132320a5106c6ac",
            "value": "Downloading builder script: 100%"
          }
        },
        "621496c2f19d44b98340a746fa528dfe": {
          "model_module": "@jupyter-widgets/controls",
          "model_module_version": "1.5.0",
          "model_name": "HBoxModel",
          "state": {
            "_dom_classes": [],
            "_model_module": "@jupyter-widgets/controls",
            "_model_module_version": "1.5.0",
            "_model_name": "HBoxModel",
            "_view_count": null,
            "_view_module": "@jupyter-widgets/controls",
            "_view_module_version": "1.5.0",
            "_view_name": "HBoxView",
            "box_style": "",
            "children": [
              "IPY_MODEL_5ed52cff803449a7b75f6861e5625f39",
              "IPY_MODEL_4225117457014145877d68753d1a266f",
              "IPY_MODEL_06babea28f474f739348d8abaf3f9c18"
            ],
            "layout": "IPY_MODEL_adb0a7e5f9284df78298091467e318df"
          }
        },
        "64d8d9ce33b041c2b692462ba2c1ceef": {
          "model_module": "@jupyter-widgets/controls",
          "model_module_version": "1.5.0",
          "model_name": "DescriptionStyleModel",
          "state": {
            "_model_module": "@jupyter-widgets/controls",
            "_model_module_version": "1.5.0",
            "_model_name": "DescriptionStyleModel",
            "_view_count": null,
            "_view_module": "@jupyter-widgets/base",
            "_view_module_version": "1.2.0",
            "_view_name": "StyleView",
            "description_width": ""
          }
        },
        "6c65a17bb52f4f1aad5de413a1d2db1c": {
          "model_module": "@jupyter-widgets/controls",
          "model_module_version": "1.5.0",
          "model_name": "HBoxModel",
          "state": {
            "_dom_classes": [],
            "_model_module": "@jupyter-widgets/controls",
            "_model_module_version": "1.5.0",
            "_model_name": "HBoxModel",
            "_view_count": null,
            "_view_module": "@jupyter-widgets/controls",
            "_view_module_version": "1.5.0",
            "_view_name": "HBoxView",
            "box_style": "",
            "children": [
              "IPY_MODEL_c7f38053b3a94c25817da0b8f6a55c85",
              "IPY_MODEL_fc876d6e17684b18bb70433c579c1dd6",
              "IPY_MODEL_c88656f4be504279b4abafd41f12aab7"
            ],
            "layout": "IPY_MODEL_5b704f3c910c44de8901946bffa98418"
          }
        },
        "6e192e876d014a6e8e2270f0e54b7f0e": {
          "model_module": "@jupyter-widgets/controls",
          "model_module_version": "1.5.0",
          "model_name": "ProgressStyleModel",
          "state": {
            "_model_module": "@jupyter-widgets/controls",
            "_model_module_version": "1.5.0",
            "_model_name": "ProgressStyleModel",
            "_view_count": null,
            "_view_module": "@jupyter-widgets/base",
            "_view_module_version": "1.2.0",
            "_view_name": "StyleView",
            "bar_color": null,
            "description_width": ""
          }
        },
        "72f089a9e02d45149918dc33e14a0237": {
          "model_module": "@jupyter-widgets/controls",
          "model_module_version": "1.5.0",
          "model_name": "DescriptionStyleModel",
          "state": {
            "_model_module": "@jupyter-widgets/controls",
            "_model_module_version": "1.5.0",
            "_model_name": "DescriptionStyleModel",
            "_view_count": null,
            "_view_module": "@jupyter-widgets/base",
            "_view_module_version": "1.2.0",
            "_view_name": "StyleView",
            "description_width": ""
          }
        },
        "7398d83c845d4062b242e9c9f09f0118": {
          "model_module": "@jupyter-widgets/controls",
          "model_module_version": "1.5.0",
          "model_name": "DescriptionStyleModel",
          "state": {
            "_model_module": "@jupyter-widgets/controls",
            "_model_module_version": "1.5.0",
            "_model_name": "DescriptionStyleModel",
            "_view_count": null,
            "_view_module": "@jupyter-widgets/base",
            "_view_module_version": "1.2.0",
            "_view_name": "StyleView",
            "description_width": ""
          }
        },
        "74b0866923e9409a8132320a5106c6ac": {
          "model_module": "@jupyter-widgets/controls",
          "model_module_version": "1.5.0",
          "model_name": "DescriptionStyleModel",
          "state": {
            "_model_module": "@jupyter-widgets/controls",
            "_model_module_version": "1.5.0",
            "_model_name": "DescriptionStyleModel",
            "_view_count": null,
            "_view_module": "@jupyter-widgets/base",
            "_view_module_version": "1.2.0",
            "_view_name": "StyleView",
            "description_width": ""
          }
        },
        "767cf037e4e542e1b7dc0b7b1be7a403": {
          "model_module": "@jupyter-widgets/controls",
          "model_module_version": "1.5.0",
          "model_name": "HBoxModel",
          "state": {
            "_dom_classes": [],
            "_model_module": "@jupyter-widgets/controls",
            "_model_module_version": "1.5.0",
            "_model_name": "HBoxModel",
            "_view_count": null,
            "_view_module": "@jupyter-widgets/controls",
            "_view_module_version": "1.5.0",
            "_view_name": "HBoxView",
            "box_style": "",
            "children": [
              "IPY_MODEL_c219c510dc6b49deae041629fd5260f4",
              "IPY_MODEL_00a8eaffed844b34a45d4d56097b6cc9",
              "IPY_MODEL_c38352241e5c4d57802a5ce61f14df11"
            ],
            "layout": "IPY_MODEL_8ac6d3588619459ba89057f7ac129060"
          }
        },
        "7ea1f11466ab4bdebbc185b8810ebb42": {
          "model_module": "@jupyter-widgets/controls",
          "model_module_version": "1.5.0",
          "model_name": "ProgressStyleModel",
          "state": {
            "_model_module": "@jupyter-widgets/controls",
            "_model_module_version": "1.5.0",
            "_model_name": "ProgressStyleModel",
            "_view_count": null,
            "_view_module": "@jupyter-widgets/base",
            "_view_module_version": "1.2.0",
            "_view_name": "StyleView",
            "bar_color": null,
            "description_width": ""
          }
        },
        "827e7e8f508f4792afa4bc6f65b0f504": {
          "model_module": "@jupyter-widgets/base",
          "model_module_version": "1.2.0",
          "model_name": "LayoutModel",
          "state": {
            "_model_module": "@jupyter-widgets/base",
            "_model_module_version": "1.2.0",
            "_model_name": "LayoutModel",
            "_view_count": null,
            "_view_module": "@jupyter-widgets/base",
            "_view_module_version": "1.2.0",
            "_view_name": "LayoutView",
            "align_content": null,
            "align_items": null,
            "align_self": null,
            "border": null,
            "bottom": null,
            "display": null,
            "flex": null,
            "flex_flow": null,
            "grid_area": null,
            "grid_auto_columns": null,
            "grid_auto_flow": null,
            "grid_auto_rows": null,
            "grid_column": null,
            "grid_gap": null,
            "grid_row": null,
            "grid_template_areas": null,
            "grid_template_columns": null,
            "grid_template_rows": null,
            "height": null,
            "justify_content": null,
            "justify_items": null,
            "left": null,
            "margin": null,
            "max_height": null,
            "max_width": null,
            "min_height": null,
            "min_width": null,
            "object_fit": null,
            "object_position": null,
            "order": null,
            "overflow": null,
            "overflow_x": null,
            "overflow_y": null,
            "padding": null,
            "right": null,
            "top": null,
            "visibility": null,
            "width": null
          }
        },
        "89b9e9b52bb54d5cb9aacf6ff914c4fa": {
          "model_module": "@jupyter-widgets/base",
          "model_module_version": "1.2.0",
          "model_name": "LayoutModel",
          "state": {
            "_model_module": "@jupyter-widgets/base",
            "_model_module_version": "1.2.0",
            "_model_name": "LayoutModel",
            "_view_count": null,
            "_view_module": "@jupyter-widgets/base",
            "_view_module_version": "1.2.0",
            "_view_name": "LayoutView",
            "align_content": null,
            "align_items": null,
            "align_self": null,
            "border": null,
            "bottom": null,
            "display": null,
            "flex": null,
            "flex_flow": null,
            "grid_area": null,
            "grid_auto_columns": null,
            "grid_auto_flow": null,
            "grid_auto_rows": null,
            "grid_column": null,
            "grid_gap": null,
            "grid_row": null,
            "grid_template_areas": null,
            "grid_template_columns": null,
            "grid_template_rows": null,
            "height": null,
            "justify_content": null,
            "justify_items": null,
            "left": null,
            "margin": null,
            "max_height": null,
            "max_width": null,
            "min_height": null,
            "min_width": null,
            "object_fit": null,
            "object_position": null,
            "order": null,
            "overflow": null,
            "overflow_x": null,
            "overflow_y": null,
            "padding": null,
            "right": null,
            "top": null,
            "visibility": null,
            "width": null
          }
        },
        "8ac6d3588619459ba89057f7ac129060": {
          "model_module": "@jupyter-widgets/base",
          "model_module_version": "1.2.0",
          "model_name": "LayoutModel",
          "state": {
            "_model_module": "@jupyter-widgets/base",
            "_model_module_version": "1.2.0",
            "_model_name": "LayoutModel",
            "_view_count": null,
            "_view_module": "@jupyter-widgets/base",
            "_view_module_version": "1.2.0",
            "_view_name": "LayoutView",
            "align_content": null,
            "align_items": null,
            "align_self": null,
            "border": null,
            "bottom": null,
            "display": null,
            "flex": null,
            "flex_flow": null,
            "grid_area": null,
            "grid_auto_columns": null,
            "grid_auto_flow": null,
            "grid_auto_rows": null,
            "grid_column": null,
            "grid_gap": null,
            "grid_row": null,
            "grid_template_areas": null,
            "grid_template_columns": null,
            "grid_template_rows": null,
            "height": null,
            "justify_content": null,
            "justify_items": null,
            "left": null,
            "margin": null,
            "max_height": null,
            "max_width": null,
            "min_height": null,
            "min_width": null,
            "object_fit": null,
            "object_position": null,
            "order": null,
            "overflow": null,
            "overflow_x": null,
            "overflow_y": null,
            "padding": null,
            "right": null,
            "top": null,
            "visibility": null,
            "width": null
          }
        },
        "8d5596e50aa14667aaf0ab9ede866669": {
          "model_module": "@jupyter-widgets/base",
          "model_module_version": "1.2.0",
          "model_name": "LayoutModel",
          "state": {
            "_model_module": "@jupyter-widgets/base",
            "_model_module_version": "1.2.0",
            "_model_name": "LayoutModel",
            "_view_count": null,
            "_view_module": "@jupyter-widgets/base",
            "_view_module_version": "1.2.0",
            "_view_name": "LayoutView",
            "align_content": null,
            "align_items": null,
            "align_self": null,
            "border": null,
            "bottom": null,
            "display": null,
            "flex": null,
            "flex_flow": null,
            "grid_area": null,
            "grid_auto_columns": null,
            "grid_auto_flow": null,
            "grid_auto_rows": null,
            "grid_column": null,
            "grid_gap": null,
            "grid_row": null,
            "grid_template_areas": null,
            "grid_template_columns": null,
            "grid_template_rows": null,
            "height": null,
            "justify_content": null,
            "justify_items": null,
            "left": null,
            "margin": null,
            "max_height": null,
            "max_width": null,
            "min_height": null,
            "min_width": null,
            "object_fit": null,
            "object_position": null,
            "order": null,
            "overflow": null,
            "overflow_x": null,
            "overflow_y": null,
            "padding": null,
            "right": null,
            "top": null,
            "visibility": null,
            "width": null
          }
        },
        "92894c18f75a4ecc88d7e76e5c8bc946": {
          "model_module": "@jupyter-widgets/base",
          "model_module_version": "1.2.0",
          "model_name": "LayoutModel",
          "state": {
            "_model_module": "@jupyter-widgets/base",
            "_model_module_version": "1.2.0",
            "_model_name": "LayoutModel",
            "_view_count": null,
            "_view_module": "@jupyter-widgets/base",
            "_view_module_version": "1.2.0",
            "_view_name": "LayoutView",
            "align_content": null,
            "align_items": null,
            "align_self": null,
            "border": null,
            "bottom": null,
            "display": null,
            "flex": null,
            "flex_flow": null,
            "grid_area": null,
            "grid_auto_columns": null,
            "grid_auto_flow": null,
            "grid_auto_rows": null,
            "grid_column": null,
            "grid_gap": null,
            "grid_row": null,
            "grid_template_areas": null,
            "grid_template_columns": null,
            "grid_template_rows": null,
            "height": null,
            "justify_content": null,
            "justify_items": null,
            "left": null,
            "margin": null,
            "max_height": null,
            "max_width": null,
            "min_height": null,
            "min_width": null,
            "object_fit": null,
            "object_position": null,
            "order": null,
            "overflow": null,
            "overflow_x": null,
            "overflow_y": null,
            "padding": null,
            "right": null,
            "top": null,
            "visibility": null,
            "width": null
          }
        },
        "9c461b61bd094722841ccf9ae24b12ce": {
          "model_module": "@jupyter-widgets/controls",
          "model_module_version": "1.5.0",
          "model_name": "HTMLModel",
          "state": {
            "_dom_classes": [],
            "_model_module": "@jupyter-widgets/controls",
            "_model_module_version": "1.5.0",
            "_model_name": "HTMLModel",
            "_view_count": null,
            "_view_module": "@jupyter-widgets/controls",
            "_view_module_version": "1.5.0",
            "_view_name": "HTMLView",
            "description": "",
            "description_tooltip": null,
            "layout": "IPY_MODEL_92894c18f75a4ecc88d7e76e5c8bc946",
            "placeholder": "​",
            "style": "IPY_MODEL_0776722757f54498bf534426ae57f053",
            "value": "Map: 100%"
          }
        },
        "9cf1cce8b51440709aff97377806f8c1": {
          "model_module": "@jupyter-widgets/base",
          "model_module_version": "1.2.0",
          "model_name": "LayoutModel",
          "state": {
            "_model_module": "@jupyter-widgets/base",
            "_model_module_version": "1.2.0",
            "_model_name": "LayoutModel",
            "_view_count": null,
            "_view_module": "@jupyter-widgets/base",
            "_view_module_version": "1.2.0",
            "_view_name": "LayoutView",
            "align_content": null,
            "align_items": null,
            "align_self": null,
            "border": null,
            "bottom": null,
            "display": null,
            "flex": null,
            "flex_flow": null,
            "grid_area": null,
            "grid_auto_columns": null,
            "grid_auto_flow": null,
            "grid_auto_rows": null,
            "grid_column": null,
            "grid_gap": null,
            "grid_row": null,
            "grid_template_areas": null,
            "grid_template_columns": null,
            "grid_template_rows": null,
            "height": null,
            "justify_content": null,
            "justify_items": null,
            "left": null,
            "margin": null,
            "max_height": null,
            "max_width": null,
            "min_height": null,
            "min_width": null,
            "object_fit": null,
            "object_position": null,
            "order": null,
            "overflow": null,
            "overflow_x": null,
            "overflow_y": null,
            "padding": null,
            "right": null,
            "top": null,
            "visibility": null,
            "width": null
          }
        },
        "9e60c6ad81204cefb6b300bc943ae2e6": {
          "model_module": "@jupyter-widgets/controls",
          "model_module_version": "1.5.0",
          "model_name": "HBoxModel",
          "state": {
            "_dom_classes": [],
            "_model_module": "@jupyter-widgets/controls",
            "_model_module_version": "1.5.0",
            "_model_name": "HBoxModel",
            "_view_count": null,
            "_view_module": "@jupyter-widgets/controls",
            "_view_module_version": "1.5.0",
            "_view_name": "HBoxView",
            "box_style": "",
            "children": [
              "IPY_MODEL_61e41a6e037645d49c0c5edfb287c918",
              "IPY_MODEL_30aa93efc3ca4ac4b97fa297695d5299",
              "IPY_MODEL_e6d99035f482480d83479a8e536412c5"
            ],
            "layout": "IPY_MODEL_eeceab5fb4234bad8d918812ef7b603d"
          }
        },
        "a7416504ad8b4f44a4ec36079c5d0abb": {
          "model_module": "@jupyter-widgets/base",
          "model_module_version": "1.2.0",
          "model_name": "LayoutModel",
          "state": {
            "_model_module": "@jupyter-widgets/base",
            "_model_module_version": "1.2.0",
            "_model_name": "LayoutModel",
            "_view_count": null,
            "_view_module": "@jupyter-widgets/base",
            "_view_module_version": "1.2.0",
            "_view_name": "LayoutView",
            "align_content": null,
            "align_items": null,
            "align_self": null,
            "border": null,
            "bottom": null,
            "display": null,
            "flex": null,
            "flex_flow": null,
            "grid_area": null,
            "grid_auto_columns": null,
            "grid_auto_flow": null,
            "grid_auto_rows": null,
            "grid_column": null,
            "grid_gap": null,
            "grid_row": null,
            "grid_template_areas": null,
            "grid_template_columns": null,
            "grid_template_rows": null,
            "height": null,
            "justify_content": null,
            "justify_items": null,
            "left": null,
            "margin": null,
            "max_height": null,
            "max_width": null,
            "min_height": null,
            "min_width": null,
            "object_fit": null,
            "object_position": null,
            "order": null,
            "overflow": null,
            "overflow_x": null,
            "overflow_y": null,
            "padding": null,
            "right": null,
            "top": null,
            "visibility": null,
            "width": null
          }
        },
        "a95833af8dda4ba18502fa4f3ea9e5ac": {
          "model_module": "@jupyter-widgets/controls",
          "model_module_version": "1.5.0",
          "model_name": "HTMLModel",
          "state": {
            "_dom_classes": [],
            "_model_module": "@jupyter-widgets/controls",
            "_model_module_version": "1.5.0",
            "_model_name": "HTMLModel",
            "_view_count": null,
            "_view_module": "@jupyter-widgets/controls",
            "_view_module_version": "1.5.0",
            "_view_name": "HTMLView",
            "description": "",
            "description_tooltip": null,
            "layout": "IPY_MODEL_c8b0ea53bb814ae59b6bbe04476493ef",
            "placeholder": "​",
            "style": "IPY_MODEL_64d8d9ce33b041c2b692462ba2c1ceef",
            "value": " 6.62k/6.62k [00:00&lt;00:00, 131kB/s]"
          }
        },
        "ab42e2c7a98c44df81b4c72527b674d9": {
          "model_module": "@jupyter-widgets/base",
          "model_module_version": "1.2.0",
          "model_name": "LayoutModel",
          "state": {
            "_model_module": "@jupyter-widgets/base",
            "_model_module_version": "1.2.0",
            "_model_name": "LayoutModel",
            "_view_count": null,
            "_view_module": "@jupyter-widgets/base",
            "_view_module_version": "1.2.0",
            "_view_name": "LayoutView",
            "align_content": null,
            "align_items": null,
            "align_self": null,
            "border": null,
            "bottom": null,
            "display": null,
            "flex": null,
            "flex_flow": null,
            "grid_area": null,
            "grid_auto_columns": null,
            "grid_auto_flow": null,
            "grid_auto_rows": null,
            "grid_column": null,
            "grid_gap": null,
            "grid_row": null,
            "grid_template_areas": null,
            "grid_template_columns": null,
            "grid_template_rows": null,
            "height": null,
            "justify_content": null,
            "justify_items": null,
            "left": null,
            "margin": null,
            "max_height": null,
            "max_width": null,
            "min_height": null,
            "min_width": null,
            "object_fit": null,
            "object_position": null,
            "order": null,
            "overflow": null,
            "overflow_x": null,
            "overflow_y": null,
            "padding": null,
            "right": null,
            "top": null,
            "visibility": null,
            "width": null
          }
        },
        "acab79ccf36c4e8b96e45ffe78ad8776": {
          "model_module": "@jupyter-widgets/controls",
          "model_module_version": "1.5.0",
          "model_name": "FloatProgressModel",
          "state": {
            "_dom_classes": [],
            "_model_module": "@jupyter-widgets/controls",
            "_model_module_version": "1.5.0",
            "_model_name": "FloatProgressModel",
            "_view_count": null,
            "_view_module": "@jupyter-widgets/controls",
            "_view_module_version": "1.5.0",
            "_view_name": "ProgressView",
            "bar_style": "success",
            "description": "",
            "description_tooltip": null,
            "layout": "IPY_MODEL_a7416504ad8b4f44a4ec36079c5d0abb",
            "max": 5121,
            "min": 0,
            "orientation": "horizontal",
            "style": "IPY_MODEL_ba69b4cf74854d04a4363bed5369fbbe",
            "value": 5121
          }
        },
        "adb0a7e5f9284df78298091467e318df": {
          "model_module": "@jupyter-widgets/base",
          "model_module_version": "1.2.0",
          "model_name": "LayoutModel",
          "state": {
            "_model_module": "@jupyter-widgets/base",
            "_model_module_version": "1.2.0",
            "_model_name": "LayoutModel",
            "_view_count": null,
            "_view_module": "@jupyter-widgets/base",
            "_view_module_version": "1.2.0",
            "_view_name": "LayoutView",
            "align_content": null,
            "align_items": null,
            "align_self": null,
            "border": null,
            "bottom": null,
            "display": null,
            "flex": null,
            "flex_flow": null,
            "grid_area": null,
            "grid_auto_columns": null,
            "grid_auto_flow": null,
            "grid_auto_rows": null,
            "grid_column": null,
            "grid_gap": null,
            "grid_row": null,
            "grid_template_areas": null,
            "grid_template_columns": null,
            "grid_template_rows": null,
            "height": null,
            "justify_content": null,
            "justify_items": null,
            "left": null,
            "margin": null,
            "max_height": null,
            "max_width": null,
            "min_height": null,
            "min_width": null,
            "object_fit": null,
            "object_position": null,
            "order": null,
            "overflow": null,
            "overflow_x": null,
            "overflow_y": null,
            "padding": null,
            "right": null,
            "top": null,
            "visibility": null,
            "width": null
          }
        },
        "b6c12d16ed0f4f809c04d65b3cc5ecb3": {
          "model_module": "@jupyter-widgets/controls",
          "model_module_version": "1.5.0",
          "model_name": "ProgressStyleModel",
          "state": {
            "_model_module": "@jupyter-widgets/controls",
            "_model_module_version": "1.5.0",
            "_model_name": "ProgressStyleModel",
            "_view_count": null,
            "_view_module": "@jupyter-widgets/base",
            "_view_module_version": "1.2.0",
            "_view_name": "StyleView",
            "bar_color": null,
            "description_width": ""
          }
        },
        "b989642aa9ef4afa942d376a21fd79ae": {
          "model_module": "@jupyter-widgets/base",
          "model_module_version": "1.2.0",
          "model_name": "LayoutModel",
          "state": {
            "_model_module": "@jupyter-widgets/base",
            "_model_module_version": "1.2.0",
            "_model_name": "LayoutModel",
            "_view_count": null,
            "_view_module": "@jupyter-widgets/base",
            "_view_module_version": "1.2.0",
            "_view_name": "LayoutView",
            "align_content": null,
            "align_items": null,
            "align_self": null,
            "border": null,
            "bottom": null,
            "display": null,
            "flex": null,
            "flex_flow": null,
            "grid_area": null,
            "grid_auto_columns": null,
            "grid_auto_flow": null,
            "grid_auto_rows": null,
            "grid_column": null,
            "grid_gap": null,
            "grid_row": null,
            "grid_template_areas": null,
            "grid_template_columns": null,
            "grid_template_rows": null,
            "height": null,
            "justify_content": null,
            "justify_items": null,
            "left": null,
            "margin": null,
            "max_height": null,
            "max_width": null,
            "min_height": null,
            "min_width": null,
            "object_fit": null,
            "object_position": null,
            "order": null,
            "overflow": null,
            "overflow_x": null,
            "overflow_y": null,
            "padding": null,
            "right": null,
            "top": null,
            "visibility": null,
            "width": null
          }
        },
        "ba69b4cf74854d04a4363bed5369fbbe": {
          "model_module": "@jupyter-widgets/controls",
          "model_module_version": "1.5.0",
          "model_name": "ProgressStyleModel",
          "state": {
            "_model_module": "@jupyter-widgets/controls",
            "_model_module_version": "1.5.0",
            "_model_name": "ProgressStyleModel",
            "_view_count": null,
            "_view_module": "@jupyter-widgets/base",
            "_view_module_version": "1.2.0",
            "_view_name": "StyleView",
            "bar_color": null,
            "description_width": ""
          }
        },
        "bce76d46951a4923bfd1d5cf6f22df63": {
          "model_module": "@jupyter-widgets/controls",
          "model_module_version": "1.5.0",
          "model_name": "ProgressStyleModel",
          "state": {
            "_model_module": "@jupyter-widgets/controls",
            "_model_module_version": "1.5.0",
            "_model_name": "ProgressStyleModel",
            "_view_count": null,
            "_view_module": "@jupyter-widgets/base",
            "_view_module_version": "1.2.0",
            "_view_name": "StyleView",
            "bar_color": null,
            "description_width": ""
          }
        },
        "c060a577e5bf4d00b16abf22930e32f6": {
          "model_module": "@jupyter-widgets/base",
          "model_module_version": "1.2.0",
          "model_name": "LayoutModel",
          "state": {
            "_model_module": "@jupyter-widgets/base",
            "_model_module_version": "1.2.0",
            "_model_name": "LayoutModel",
            "_view_count": null,
            "_view_module": "@jupyter-widgets/base",
            "_view_module_version": "1.2.0",
            "_view_name": "LayoutView",
            "align_content": null,
            "align_items": null,
            "align_self": null,
            "border": null,
            "bottom": null,
            "display": null,
            "flex": null,
            "flex_flow": null,
            "grid_area": null,
            "grid_auto_columns": null,
            "grid_auto_flow": null,
            "grid_auto_rows": null,
            "grid_column": null,
            "grid_gap": null,
            "grid_row": null,
            "grid_template_areas": null,
            "grid_template_columns": null,
            "grid_template_rows": null,
            "height": null,
            "justify_content": null,
            "justify_items": null,
            "left": null,
            "margin": null,
            "max_height": null,
            "max_width": null,
            "min_height": null,
            "min_width": null,
            "object_fit": null,
            "object_position": null,
            "order": null,
            "overflow": null,
            "overflow_x": null,
            "overflow_y": null,
            "padding": null,
            "right": null,
            "top": null,
            "visibility": null,
            "width": null
          }
        },
        "c0b3ce0f29964265be5ea38b462acf7b": {
          "model_module": "@jupyter-widgets/controls",
          "model_module_version": "1.5.0",
          "model_name": "HTMLModel",
          "state": {
            "_dom_classes": [],
            "_model_module": "@jupyter-widgets/controls",
            "_model_module_version": "1.5.0",
            "_model_name": "HTMLModel",
            "_view_count": null,
            "_view_module": "@jupyter-widgets/controls",
            "_view_module_version": "1.5.0",
            "_view_name": "HTMLView",
            "description": "",
            "description_tooltip": null,
            "layout": "IPY_MODEL_f051b53d11b44c2cac31893ebf930b16",
            "placeholder": "​",
            "style": "IPY_MODEL_e1860b8b1ed54b71bcb7676043b63b55",
            "value": "Downloading readme: 100%"
          }
        },
        "c0ee1814213d41678dd93b3e1ed6a131": {
          "model_module": "@jupyter-widgets/controls",
          "model_module_version": "1.5.0",
          "model_name": "DescriptionStyleModel",
          "state": {
            "_model_module": "@jupyter-widgets/controls",
            "_model_module_version": "1.5.0",
            "_model_name": "DescriptionStyleModel",
            "_view_count": null,
            "_view_module": "@jupyter-widgets/base",
            "_view_module_version": "1.2.0",
            "_view_name": "StyleView",
            "description_width": ""
          }
        },
        "c219c510dc6b49deae041629fd5260f4": {
          "model_module": "@jupyter-widgets/controls",
          "model_module_version": "1.5.0",
          "model_name": "HTMLModel",
          "state": {
            "_dom_classes": [],
            "_model_module": "@jupyter-widgets/controls",
            "_model_module_version": "1.5.0",
            "_model_name": "HTMLModel",
            "_view_count": null,
            "_view_module": "@jupyter-widgets/controls",
            "_view_module_version": "1.5.0",
            "_view_name": "HTMLView",
            "description": "",
            "description_tooltip": null,
            "layout": "IPY_MODEL_d3cae845442047d6819bb10aa972cabe",
            "placeholder": "​",
            "style": "IPY_MODEL_fdc3786d577547d09fa5b3a6253c9074",
            "value": "Downloading data: 100%"
          }
        },
        "c38352241e5c4d57802a5ce61f14df11": {
          "model_module": "@jupyter-widgets/controls",
          "model_module_version": "1.5.0",
          "model_name": "HTMLModel",
          "state": {
            "_dom_classes": [],
            "_model_module": "@jupyter-widgets/controls",
            "_model_module_version": "1.5.0",
            "_model_name": "HTMLModel",
            "_view_count": null,
            "_view_module": "@jupyter-widgets/controls",
            "_view_module_version": "1.5.0",
            "_view_name": "HTMLView",
            "description": "",
            "description_tooltip": null,
            "layout": "IPY_MODEL_d673b79a4c694b1683b4807fdbd58393",
            "placeholder": "​",
            "style": "IPY_MODEL_dca0eb9788d346e980c37db4845a75d3",
            "value": " 1.93M/1.93M [00:00&lt;00:00, 7.77MB/s]"
          }
        },
        "c6c64c711e5849f78a3ea8afd331175d": {
          "model_module": "@jupyter-widgets/controls",
          "model_module_version": "1.5.0",
          "model_name": "HTMLModel",
          "state": {
            "_dom_classes": [],
            "_model_module": "@jupyter-widgets/controls",
            "_model_module_version": "1.5.0",
            "_model_name": "HTMLModel",
            "_view_count": null,
            "_view_module": "@jupyter-widgets/controls",
            "_view_module_version": "1.5.0",
            "_view_name": "HTMLView",
            "description": "",
            "description_tooltip": null,
            "layout": "IPY_MODEL_c060a577e5bf4d00b16abf22930e32f6",
            "placeholder": "​",
            "style": "IPY_MODEL_c0ee1814213d41678dd93b3e1ed6a131",
            "value": " 2560/2560 [00:01&lt;00:00, 1807.64 examples/s]"
          }
        },
        "c7f38053b3a94c25817da0b8f6a55c85": {
          "model_module": "@jupyter-widgets/controls",
          "model_module_version": "1.5.0",
          "model_name": "HTMLModel",
          "state": {
            "_dom_classes": [],
            "_model_module": "@jupyter-widgets/controls",
            "_model_module_version": "1.5.0",
            "_model_name": "HTMLModel",
            "_view_count": null,
            "_view_module": "@jupyter-widgets/controls",
            "_view_module_version": "1.5.0",
            "_view_name": "HTMLView",
            "description": "",
            "description_tooltip": null,
            "layout": "IPY_MODEL_f36e2951bd89409bbfa979a09ebe6db4",
            "placeholder": "​",
            "style": "IPY_MODEL_f7e6761f45874ce2a97a9ec0e58ffa3b",
            "value": "Map: 100%"
          }
        },
        "c88656f4be504279b4abafd41f12aab7": {
          "model_module": "@jupyter-widgets/controls",
          "model_module_version": "1.5.0",
          "model_name": "HTMLModel",
          "state": {
            "_dom_classes": [],
            "_model_module": "@jupyter-widgets/controls",
            "_model_module_version": "1.5.0",
            "_model_name": "HTMLModel",
            "_view_count": null,
            "_view_module": "@jupyter-widgets/controls",
            "_view_module_version": "1.5.0",
            "_view_name": "HTMLView",
            "description": "",
            "description_tooltip": null,
            "layout": "IPY_MODEL_b989642aa9ef4afa942d376a21fd79ae",
            "placeholder": "​",
            "style": "IPY_MODEL_72f089a9e02d45149918dc33e14a0237",
            "value": " 5121/5121 [00:03&lt;00:00, 1405.62 examples/s]"
          }
        },
        "c8b0ea53bb814ae59b6bbe04476493ef": {
          "model_module": "@jupyter-widgets/base",
          "model_module_version": "1.2.0",
          "model_name": "LayoutModel",
          "state": {
            "_model_module": "@jupyter-widgets/base",
            "_model_module_version": "1.2.0",
            "_model_name": "LayoutModel",
            "_view_count": null,
            "_view_module": "@jupyter-widgets/base",
            "_view_module_version": "1.2.0",
            "_view_name": "LayoutView",
            "align_content": null,
            "align_items": null,
            "align_self": null,
            "border": null,
            "bottom": null,
            "display": null,
            "flex": null,
            "flex_flow": null,
            "grid_area": null,
            "grid_auto_columns": null,
            "grid_auto_flow": null,
            "grid_auto_rows": null,
            "grid_column": null,
            "grid_gap": null,
            "grid_row": null,
            "grid_template_areas": null,
            "grid_template_columns": null,
            "grid_template_rows": null,
            "height": null,
            "justify_content": null,
            "justify_items": null,
            "left": null,
            "margin": null,
            "max_height": null,
            "max_width": null,
            "min_height": null,
            "min_width": null,
            "object_fit": null,
            "object_position": null,
            "order": null,
            "overflow": null,
            "overflow_x": null,
            "overflow_y": null,
            "padding": null,
            "right": null,
            "top": null,
            "visibility": null,
            "width": null
          }
        },
        "cb731a9967e14412b913fecd18f5836f": {
          "model_module": "@jupyter-widgets/controls",
          "model_module_version": "1.5.0",
          "model_name": "FloatProgressModel",
          "state": {
            "_dom_classes": [],
            "_model_module": "@jupyter-widgets/controls",
            "_model_module_version": "1.5.0",
            "_model_name": "FloatProgressModel",
            "_view_count": null,
            "_view_module": "@jupyter-widgets/controls",
            "_view_module_version": "1.5.0",
            "_view_name": "ProgressView",
            "bar_style": "success",
            "description": "",
            "description_tooltip": null,
            "layout": "IPY_MODEL_e44a59a7b3e94234bbc19f006ed01f4c",
            "max": 6616,
            "min": 0,
            "orientation": "horizontal",
            "style": "IPY_MODEL_6e192e876d014a6e8e2270f0e54b7f0e",
            "value": 6616
          }
        },
        "d3cae845442047d6819bb10aa972cabe": {
          "model_module": "@jupyter-widgets/base",
          "model_module_version": "1.2.0",
          "model_name": "LayoutModel",
          "state": {
            "_model_module": "@jupyter-widgets/base",
            "_model_module_version": "1.2.0",
            "_model_name": "LayoutModel",
            "_view_count": null,
            "_view_module": "@jupyter-widgets/base",
            "_view_module_version": "1.2.0",
            "_view_name": "LayoutView",
            "align_content": null,
            "align_items": null,
            "align_self": null,
            "border": null,
            "bottom": null,
            "display": null,
            "flex": null,
            "flex_flow": null,
            "grid_area": null,
            "grid_auto_columns": null,
            "grid_auto_flow": null,
            "grid_auto_rows": null,
            "grid_column": null,
            "grid_gap": null,
            "grid_row": null,
            "grid_template_areas": null,
            "grid_template_columns": null,
            "grid_template_rows": null,
            "height": null,
            "justify_content": null,
            "justify_items": null,
            "left": null,
            "margin": null,
            "max_height": null,
            "max_width": null,
            "min_height": null,
            "min_width": null,
            "object_fit": null,
            "object_position": null,
            "order": null,
            "overflow": null,
            "overflow_x": null,
            "overflow_y": null,
            "padding": null,
            "right": null,
            "top": null,
            "visibility": null,
            "width": null
          }
        },
        "d673b79a4c694b1683b4807fdbd58393": {
          "model_module": "@jupyter-widgets/base",
          "model_module_version": "1.2.0",
          "model_name": "LayoutModel",
          "state": {
            "_model_module": "@jupyter-widgets/base",
            "_model_module_version": "1.2.0",
            "_model_name": "LayoutModel",
            "_view_count": null,
            "_view_module": "@jupyter-widgets/base",
            "_view_module_version": "1.2.0",
            "_view_name": "LayoutView",
            "align_content": null,
            "align_items": null,
            "align_self": null,
            "border": null,
            "bottom": null,
            "display": null,
            "flex": null,
            "flex_flow": null,
            "grid_area": null,
            "grid_auto_columns": null,
            "grid_auto_flow": null,
            "grid_auto_rows": null,
            "grid_column": null,
            "grid_gap": null,
            "grid_row": null,
            "grid_template_areas": null,
            "grid_template_columns": null,
            "grid_template_rows": null,
            "height": null,
            "justify_content": null,
            "justify_items": null,
            "left": null,
            "margin": null,
            "max_height": null,
            "max_width": null,
            "min_height": null,
            "min_width": null,
            "object_fit": null,
            "object_position": null,
            "order": null,
            "overflow": null,
            "overflow_x": null,
            "overflow_y": null,
            "padding": null,
            "right": null,
            "top": null,
            "visibility": null,
            "width": null
          }
        },
        "d8f0f135bd2e4d5b964090f308eea588": {
          "model_module": "@jupyter-widgets/base",
          "model_module_version": "1.2.0",
          "model_name": "LayoutModel",
          "state": {
            "_model_module": "@jupyter-widgets/base",
            "_model_module_version": "1.2.0",
            "_model_name": "LayoutModel",
            "_view_count": null,
            "_view_module": "@jupyter-widgets/base",
            "_view_module_version": "1.2.0",
            "_view_name": "LayoutView",
            "align_content": null,
            "align_items": null,
            "align_self": null,
            "border": null,
            "bottom": null,
            "display": null,
            "flex": null,
            "flex_flow": null,
            "grid_area": null,
            "grid_auto_columns": null,
            "grid_auto_flow": null,
            "grid_auto_rows": null,
            "grid_column": null,
            "grid_gap": null,
            "grid_row": null,
            "grid_template_areas": null,
            "grid_template_columns": null,
            "grid_template_rows": null,
            "height": null,
            "justify_content": null,
            "justify_items": null,
            "left": null,
            "margin": null,
            "max_height": null,
            "max_width": null,
            "min_height": null,
            "min_width": null,
            "object_fit": null,
            "object_position": null,
            "order": null,
            "overflow": null,
            "overflow_x": null,
            "overflow_y": null,
            "padding": null,
            "right": null,
            "top": null,
            "visibility": null,
            "width": null
          }
        },
        "dac5baf4a8b648d393d752484ac19caf": {
          "model_module": "@jupyter-widgets/controls",
          "model_module_version": "1.5.0",
          "model_name": "DescriptionStyleModel",
          "state": {
            "_model_module": "@jupyter-widgets/controls",
            "_model_module_version": "1.5.0",
            "_model_name": "DescriptionStyleModel",
            "_view_count": null,
            "_view_module": "@jupyter-widgets/base",
            "_view_module_version": "1.2.0",
            "_view_name": "StyleView",
            "description_width": ""
          }
        },
        "dca0eb9788d346e980c37db4845a75d3": {
          "model_module": "@jupyter-widgets/controls",
          "model_module_version": "1.5.0",
          "model_name": "DescriptionStyleModel",
          "state": {
            "_model_module": "@jupyter-widgets/controls",
            "_model_module_version": "1.5.0",
            "_model_name": "DescriptionStyleModel",
            "_view_count": null,
            "_view_module": "@jupyter-widgets/base",
            "_view_module_version": "1.2.0",
            "_view_name": "StyleView",
            "description_width": ""
          }
        },
        "e1860b8b1ed54b71bcb7676043b63b55": {
          "model_module": "@jupyter-widgets/controls",
          "model_module_version": "1.5.0",
          "model_name": "DescriptionStyleModel",
          "state": {
            "_model_module": "@jupyter-widgets/controls",
            "_model_module_version": "1.5.0",
            "_model_name": "DescriptionStyleModel",
            "_view_count": null,
            "_view_module": "@jupyter-widgets/base",
            "_view_module_version": "1.2.0",
            "_view_name": "StyleView",
            "description_width": ""
          }
        },
        "e3c69536141543a4b0118d4232aa2fe1": {
          "model_module": "@jupyter-widgets/controls",
          "model_module_version": "1.5.0",
          "model_name": "ProgressStyleModel",
          "state": {
            "_model_module": "@jupyter-widgets/controls",
            "_model_module_version": "1.5.0",
            "_model_name": "ProgressStyleModel",
            "_view_count": null,
            "_view_module": "@jupyter-widgets/base",
            "_view_module_version": "1.2.0",
            "_view_name": "StyleView",
            "bar_color": null,
            "description_width": ""
          }
        },
        "e44a59a7b3e94234bbc19f006ed01f4c": {
          "model_module": "@jupyter-widgets/base",
          "model_module_version": "1.2.0",
          "model_name": "LayoutModel",
          "state": {
            "_model_module": "@jupyter-widgets/base",
            "_model_module_version": "1.2.0",
            "_model_name": "LayoutModel",
            "_view_count": null,
            "_view_module": "@jupyter-widgets/base",
            "_view_module_version": "1.2.0",
            "_view_name": "LayoutView",
            "align_content": null,
            "align_items": null,
            "align_self": null,
            "border": null,
            "bottom": null,
            "display": null,
            "flex": null,
            "flex_flow": null,
            "grid_area": null,
            "grid_auto_columns": null,
            "grid_auto_flow": null,
            "grid_auto_rows": null,
            "grid_column": null,
            "grid_gap": null,
            "grid_row": null,
            "grid_template_areas": null,
            "grid_template_columns": null,
            "grid_template_rows": null,
            "height": null,
            "justify_content": null,
            "justify_items": null,
            "left": null,
            "margin": null,
            "max_height": null,
            "max_width": null,
            "min_height": null,
            "min_width": null,
            "object_fit": null,
            "object_position": null,
            "order": null,
            "overflow": null,
            "overflow_x": null,
            "overflow_y": null,
            "padding": null,
            "right": null,
            "top": null,
            "visibility": null,
            "width": null
          }
        },
        "e6d99035f482480d83479a8e536412c5": {
          "model_module": "@jupyter-widgets/controls",
          "model_module_version": "1.5.0",
          "model_name": "HTMLModel",
          "state": {
            "_dom_classes": [],
            "_model_module": "@jupyter-widgets/controls",
            "_model_module_version": "1.5.0",
            "_model_name": "HTMLModel",
            "_view_count": null,
            "_view_module": "@jupyter-widgets/controls",
            "_view_module_version": "1.5.0",
            "_view_name": "HTMLView",
            "description": "",
            "description_tooltip": null,
            "layout": "IPY_MODEL_ab42e2c7a98c44df81b4c72527b674d9",
            "placeholder": "​",
            "style": "IPY_MODEL_ed1c8b064c3e48b5a96ba4ba6d48a98a",
            "value": " 7.23k/7.23k [00:00&lt;00:00, 195kB/s]"
          }
        },
        "ed1c8b064c3e48b5a96ba4ba6d48a98a": {
          "model_module": "@jupyter-widgets/controls",
          "model_module_version": "1.5.0",
          "model_name": "DescriptionStyleModel",
          "state": {
            "_model_module": "@jupyter-widgets/controls",
            "_model_module_version": "1.5.0",
            "_model_name": "DescriptionStyleModel",
            "_view_count": null,
            "_view_module": "@jupyter-widgets/base",
            "_view_module_version": "1.2.0",
            "_view_name": "StyleView",
            "description_width": ""
          }
        },
        "eeceab5fb4234bad8d918812ef7b603d": {
          "model_module": "@jupyter-widgets/base",
          "model_module_version": "1.2.0",
          "model_name": "LayoutModel",
          "state": {
            "_model_module": "@jupyter-widgets/base",
            "_model_module_version": "1.2.0",
            "_model_name": "LayoutModel",
            "_view_count": null,
            "_view_module": "@jupyter-widgets/base",
            "_view_module_version": "1.2.0",
            "_view_name": "LayoutView",
            "align_content": null,
            "align_items": null,
            "align_self": null,
            "border": null,
            "bottom": null,
            "display": null,
            "flex": null,
            "flex_flow": null,
            "grid_area": null,
            "grid_auto_columns": null,
            "grid_auto_flow": null,
            "grid_auto_rows": null,
            "grid_column": null,
            "grid_gap": null,
            "grid_row": null,
            "grid_template_areas": null,
            "grid_template_columns": null,
            "grid_template_rows": null,
            "height": null,
            "justify_content": null,
            "justify_items": null,
            "left": null,
            "margin": null,
            "max_height": null,
            "max_width": null,
            "min_height": null,
            "min_width": null,
            "object_fit": null,
            "object_position": null,
            "order": null,
            "overflow": null,
            "overflow_x": null,
            "overflow_y": null,
            "padding": null,
            "right": null,
            "top": null,
            "visibility": null,
            "width": null
          }
        },
        "efd1f149693c47d8bba4aefad661b404": {
          "model_module": "@jupyter-widgets/base",
          "model_module_version": "1.2.0",
          "model_name": "LayoutModel",
          "state": {
            "_model_module": "@jupyter-widgets/base",
            "_model_module_version": "1.2.0",
            "_model_name": "LayoutModel",
            "_view_count": null,
            "_view_module": "@jupyter-widgets/base",
            "_view_module_version": "1.2.0",
            "_view_name": "LayoutView",
            "align_content": null,
            "align_items": null,
            "align_self": null,
            "border": null,
            "bottom": null,
            "display": null,
            "flex": null,
            "flex_flow": null,
            "grid_area": null,
            "grid_auto_columns": null,
            "grid_auto_flow": null,
            "grid_auto_rows": null,
            "grid_column": null,
            "grid_gap": null,
            "grid_row": null,
            "grid_template_areas": null,
            "grid_template_columns": null,
            "grid_template_rows": null,
            "height": null,
            "justify_content": null,
            "justify_items": null,
            "left": null,
            "margin": null,
            "max_height": null,
            "max_width": null,
            "min_height": null,
            "min_width": null,
            "object_fit": null,
            "object_position": null,
            "order": null,
            "overflow": null,
            "overflow_x": null,
            "overflow_y": null,
            "padding": null,
            "right": null,
            "top": null,
            "visibility": null,
            "width": null
          }
        },
        "f051b53d11b44c2cac31893ebf930b16": {
          "model_module": "@jupyter-widgets/base",
          "model_module_version": "1.2.0",
          "model_name": "LayoutModel",
          "state": {
            "_model_module": "@jupyter-widgets/base",
            "_model_module_version": "1.2.0",
            "_model_name": "LayoutModel",
            "_view_count": null,
            "_view_module": "@jupyter-widgets/base",
            "_view_module_version": "1.2.0",
            "_view_name": "LayoutView",
            "align_content": null,
            "align_items": null,
            "align_self": null,
            "border": null,
            "bottom": null,
            "display": null,
            "flex": null,
            "flex_flow": null,
            "grid_area": null,
            "grid_auto_columns": null,
            "grid_auto_flow": null,
            "grid_auto_rows": null,
            "grid_column": null,
            "grid_gap": null,
            "grid_row": null,
            "grid_template_areas": null,
            "grid_template_columns": null,
            "grid_template_rows": null,
            "height": null,
            "justify_content": null,
            "justify_items": null,
            "left": null,
            "margin": null,
            "max_height": null,
            "max_width": null,
            "min_height": null,
            "min_width": null,
            "object_fit": null,
            "object_position": null,
            "order": null,
            "overflow": null,
            "overflow_x": null,
            "overflow_y": null,
            "padding": null,
            "right": null,
            "top": null,
            "visibility": null,
            "width": null
          }
        },
        "f0ed07326cdb4bed8d6c345390a68078": {
          "model_module": "@jupyter-widgets/base",
          "model_module_version": "1.2.0",
          "model_name": "LayoutModel",
          "state": {
            "_model_module": "@jupyter-widgets/base",
            "_model_module_version": "1.2.0",
            "_model_name": "LayoutModel",
            "_view_count": null,
            "_view_module": "@jupyter-widgets/base",
            "_view_module_version": "1.2.0",
            "_view_name": "LayoutView",
            "align_content": null,
            "align_items": null,
            "align_self": null,
            "border": null,
            "bottom": null,
            "display": null,
            "flex": null,
            "flex_flow": null,
            "grid_area": null,
            "grid_auto_columns": null,
            "grid_auto_flow": null,
            "grid_auto_rows": null,
            "grid_column": null,
            "grid_gap": null,
            "grid_row": null,
            "grid_template_areas": null,
            "grid_template_columns": null,
            "grid_template_rows": null,
            "height": null,
            "justify_content": null,
            "justify_items": null,
            "left": null,
            "margin": null,
            "max_height": null,
            "max_width": null,
            "min_height": null,
            "min_width": null,
            "object_fit": null,
            "object_position": null,
            "order": null,
            "overflow": null,
            "overflow_x": null,
            "overflow_y": null,
            "padding": null,
            "right": null,
            "top": null,
            "visibility": null,
            "width": null
          }
        },
        "f36e2951bd89409bbfa979a09ebe6db4": {
          "model_module": "@jupyter-widgets/base",
          "model_module_version": "1.2.0",
          "model_name": "LayoutModel",
          "state": {
            "_model_module": "@jupyter-widgets/base",
            "_model_module_version": "1.2.0",
            "_model_name": "LayoutModel",
            "_view_count": null,
            "_view_module": "@jupyter-widgets/base",
            "_view_module_version": "1.2.0",
            "_view_name": "LayoutView",
            "align_content": null,
            "align_items": null,
            "align_self": null,
            "border": null,
            "bottom": null,
            "display": null,
            "flex": null,
            "flex_flow": null,
            "grid_area": null,
            "grid_auto_columns": null,
            "grid_auto_flow": null,
            "grid_auto_rows": null,
            "grid_column": null,
            "grid_gap": null,
            "grid_row": null,
            "grid_template_areas": null,
            "grid_template_columns": null,
            "grid_template_rows": null,
            "height": null,
            "justify_content": null,
            "justify_items": null,
            "left": null,
            "margin": null,
            "max_height": null,
            "max_width": null,
            "min_height": null,
            "min_width": null,
            "object_fit": null,
            "object_position": null,
            "order": null,
            "overflow": null,
            "overflow_x": null,
            "overflow_y": null,
            "padding": null,
            "right": null,
            "top": null,
            "visibility": null,
            "width": null
          }
        },
        "f7e6761f45874ce2a97a9ec0e58ffa3b": {
          "model_module": "@jupyter-widgets/controls",
          "model_module_version": "1.5.0",
          "model_name": "DescriptionStyleModel",
          "state": {
            "_model_module": "@jupyter-widgets/controls",
            "_model_module_version": "1.5.0",
            "_model_name": "DescriptionStyleModel",
            "_view_count": null,
            "_view_module": "@jupyter-widgets/base",
            "_view_module_version": "1.2.0",
            "_view_name": "StyleView",
            "description_width": ""
          }
        },
        "fa639ce405bd4e05a14f768c005e334f": {
          "model_module": "@jupyter-widgets/base",
          "model_module_version": "1.2.0",
          "model_name": "LayoutModel",
          "state": {
            "_model_module": "@jupyter-widgets/base",
            "_model_module_version": "1.2.0",
            "_model_name": "LayoutModel",
            "_view_count": null,
            "_view_module": "@jupyter-widgets/base",
            "_view_module_version": "1.2.0",
            "_view_name": "LayoutView",
            "align_content": null,
            "align_items": null,
            "align_self": null,
            "border": null,
            "bottom": null,
            "display": null,
            "flex": null,
            "flex_flow": null,
            "grid_area": null,
            "grid_auto_columns": null,
            "grid_auto_flow": null,
            "grid_auto_rows": null,
            "grid_column": null,
            "grid_gap": null,
            "grid_row": null,
            "grid_template_areas": null,
            "grid_template_columns": null,
            "grid_template_rows": null,
            "height": null,
            "justify_content": null,
            "justify_items": null,
            "left": null,
            "margin": null,
            "max_height": null,
            "max_width": null,
            "min_height": null,
            "min_width": null,
            "object_fit": null,
            "object_position": null,
            "order": null,
            "overflow": null,
            "overflow_x": null,
            "overflow_y": null,
            "padding": null,
            "right": null,
            "top": null,
            "visibility": null,
            "width": null
          }
        },
        "fc876d6e17684b18bb70433c579c1dd6": {
          "model_module": "@jupyter-widgets/controls",
          "model_module_version": "1.5.0",
          "model_name": "FloatProgressModel",
          "state": {
            "_dom_classes": [],
            "_model_module": "@jupyter-widgets/controls",
            "_model_module_version": "1.5.0",
            "_model_name": "FloatProgressModel",
            "_view_count": null,
            "_view_module": "@jupyter-widgets/controls",
            "_view_module_version": "1.5.0",
            "_view_name": "ProgressView",
            "bar_style": "success",
            "description": "",
            "description_tooltip": null,
            "layout": "IPY_MODEL_827e7e8f508f4792afa4bc6f65b0f504",
            "max": 5121,
            "min": 0,
            "orientation": "horizontal",
            "style": "IPY_MODEL_7ea1f11466ab4bdebbc185b8810ebb42",
            "value": 5121
          }
        },
        "fdc3786d577547d09fa5b3a6253c9074": {
          "model_module": "@jupyter-widgets/controls",
          "model_module_version": "1.5.0",
          "model_name": "DescriptionStyleModel",
          "state": {
            "_model_module": "@jupyter-widgets/controls",
            "_model_module_version": "1.5.0",
            "_model_name": "DescriptionStyleModel",
            "_view_count": null,
            "_view_module": "@jupyter-widgets/base",
            "_view_module_version": "1.2.0",
            "_view_name": "StyleView",
            "description_width": ""
          }
        }
      }
    }
  },
  "nbformat": 4,
  "nbformat_minor": 0
}